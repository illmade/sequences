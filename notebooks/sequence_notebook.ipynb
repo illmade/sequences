{
 "cells": [
  {
   "cell_type": "code",
   "execution_count": 1,
   "metadata": {
    "collapsed": true
   },
   "outputs": [],
   "source": [
    "import tensorflow as tf\n",
    "import numpy as np\n",
    "import sys\n",
    "import os\n",
    "import matplotlib.pyplot as plt\n",
    "\n",
    "sys.path.append(os.path.abspath(\"/notebooks\"))\n",
    "import sq_net"
   ]
  },
  {
   "cell_type": "markdown",
   "metadata": {},
   "source": [
    "Our lstm cells have an internal size - hidden size\n",
    "And a size that matches the input    - input size\n",
    "\n",
    "We can change the cell() defintion to try out other cell types"
   ]
  },
  {
   "cell_type": "code",
   "execution_count": 2,
   "metadata": {
    "collapsed": true
   },
   "outputs": [],
   "source": [
    "hidden_size = 22\n",
    "input_size = 35\n",
    "output_size = 26\n",
    "layer_count = 3\n",
    "train_steps = 120\n",
    "batch_size = 4\n",
    "input_count = 4\n",
    "\n",
    "#beta is the regularization\n",
    "beta_val = 0.012\n",
    "beta = tf.Variable(beta_val, trainable=False)\n",
    "train_length = train_steps - input_size - 1\n",
    "\n",
    "cell_name = \"gru_cell\"\n",
    "cell_kernel = \"{0}/gates\".format(cell_name)\n",
    "\n",
    "global_dropout = tf.Variable(0.9, trainable=False)\n",
    "\n",
    "# gru_cell/gates, basic_lstm_cell\n",
    "def cell():\n",
    "    lcell = tf.nn.rnn_cell.GRUCell(hidden_size)\n",
    "    return tf.nn.rnn_cell.DropoutWrapper(lcell, input_keep_prob=global_dropout)"
   ]
  },
  {
   "cell_type": "markdown",
   "metadata": {},
   "source": [
    "Set up the network and a trainer"
   ]
  },
  {
   "cell_type": "code",
   "execution_count": 3,
   "metadata": {
    "collapsed": true
   },
   "outputs": [],
   "source": [
    "loss, cost, logits, save_dict = sq_net.sequence_layer(train_steps, batch_size, input_size, output_size, \\\n",
    "                        input_count, layer_count, hidden_size, cell, cell_kernel, beta, global_dropout, None)\n",
    "\n",
    "inputs = save_dict['inputs']"
   ]
  },
  {
   "cell_type": "code",
   "execution_count": 4,
   "metadata": {
    "collapsed": true
   },
   "outputs": [],
   "source": [
    "train_op, grads = sq_net.adam_train(cost)"
   ]
  },
  {
   "cell_type": "markdown",
   "metadata": {},
   "source": [
    "Import the AirQuality data from the csv file"
   ]
  },
  {
   "cell_type": "code",
   "execution_count": 5,
   "metadata": {
    "collapsed": true
   },
   "outputs": [],
   "source": [
    "filename_queue = tf.train.string_input_producer([\"data/AirQualityUCI.csv\"])\n",
    "\n",
    "reader = tf.TextLineReader(1)\n",
    "key, value = reader.read_up_to(filename_queue, 8000)"
   ]
  },
  {
   "cell_type": "code",
   "execution_count": 6,
   "metadata": {
    "collapsed": true
   },
   "outputs": [],
   "source": [
    "# Date1;Time2;3CO(GT);4PT08.S1(CO);5NMHC(GT);6C6H6(GT);7PT08.S2(NMHC);8NOx(GT);9PT08.S3(NOx);10NO2(GT);11PT08.S4(NO2);12PT08.S5(O3);12T;14RH;15AH;;\n",
    "record_defaults = [[\"0\"],[\"0\"],[\"0\"],[\"0\"],[\"0\"],[\"0\"],[\"0\"],[\"0\"],[\"0\"],[\"0\"],[\"0\"],[\"0\"],[\"0\"],[\"0\"],[\"0\"],[\"0\"],[\"0\"]]\n",
    "\n",
    "cols = tf.decode_csv(value, record_defaults=record_defaults, field_delim=\";\")\n",
    "\n",
    "ptco = tf.string_to_number(cols[3])\n",
    "ptco_max = tf.reduce_max(ptco)\n",
    "ptco_norm = ptco / ptco_max\n",
    "\n",
    "nmhc = tf.string_to_number(cols[4])\n",
    "nmhc_max = tf.reduce_max(nmhc)\n",
    "nmhc_norm = nmhc / nmhc_max\n",
    "\n",
    "# c6h6 = cols[5]\n",
    "\n",
    "pts2 = tf.string_to_number(cols[6])\n",
    "pts2_max = tf.reduce_max(pts2)\n",
    "pts2_norm = pts2 / pts2_max\n",
    "\n",
    "nox = tf.string_to_number(cols[7])\n",
    "nox_max = tf.reduce_max(nox)\n",
    "nox_norm = nox / nox_max\n",
    "\n",
    "no2 = tf.string_to_number(cols[9])\n",
    "no2_max = tf.reduce_max(no2)\n",
    "no2_norm = no2 / no2_max\n",
    "\n",
    "o3 = tf.string_to_number(cols[11])\n",
    "o3_max = tf.reduce_max(o3)\n",
    "o3_norm = o3 / o3_max"
   ]
  },
  {
   "cell_type": "markdown",
   "metadata": {},
   "source": [
    "Read the data using a queue runner"
   ]
  },
  {
   "cell_type": "code",
   "execution_count": 7,
   "metadata": {
    "collapsed": true
   },
   "outputs": [],
   "source": [
    "with tf.Session() as sess:\n",
    "    coord = tf.train.Coordinator()\n",
    "    threads = tf.train.start_queue_runners(coord=coord)\n",
    "\n",
    "    full_data, ptco_norm_data, pts2_norm_data, nmhc_norm_data, \\\n",
    "        nox_data, nox_norm_data, no2_data, no2_norm_data, o3_data, o3_norm_data = \\\n",
    "        sess.run([cols, ptco_norm, pts2_norm, nmhc_norm, nox, nox_norm, no2, no2_norm, o3, o3_norm])\n",
    "        \n",
    "    coord.request_stop()\n",
    "    coord.join(threads)"
   ]
  },
  {
   "cell_type": "markdown",
   "metadata": {},
   "source": [
    "We can choose different gases to train with and target"
   ]
  },
  {
   "cell_type": "code",
   "execution_count": 8,
   "metadata": {},
   "outputs": [],
   "source": [
    "training_set_a = pts2_norm_data[:8000]\n",
    "training_set_b = ptco_norm_data[:8000]\n",
    "training_set_c = nox_norm_data[:8000]\n",
    "training_set_d = no2_norm_data[:8000]\n",
    "\n",
    "target_set = o3_norm_data[:8000]"
   ]
  },
  {
   "cell_type": "markdown",
   "metadata": {},
   "source": [
    "Our data feed will adjust based on the data we set with data_in"
   ]
  },
  {
   "cell_type": "code",
   "execution_count": 11,
   "metadata": {},
   "outputs": [],
   "source": [
    "data_in = [training_set_a, training_set_b, training_set_c, training_set_d]"
   ]
  },
  {
   "cell_type": "markdown",
   "metadata": {},
   "source": [
    "Lets look at some of the data"
   ]
  },
  {
   "cell_type": "code",
   "execution_count": 9,
   "metadata": {},
   "outputs": [
    {
     "data": {
      "image/png": "[encoded data removed]",
      "text/plain": [
       "<matplotlib.figure.Figure at 0x7f7ded13e210>"
      ]
     },
     "metadata": {},
     "output_type": "display_data"
    }
   ],
   "source": [
    "plt.plot(target_set, 'b')\n",
    "plt.plot(training_set_d, 'r')\n",
    "plt.show()"
   ]
  },
  {
   "cell_type": "markdown",
   "metadata": {},
   "source": [
    "Grab a bunch of data for training/testing"
   ]
  },
  {
   "cell_type": "code",
   "execution_count": 10,
   "metadata": {
    "collapsed": true
   },
   "outputs": [],
   "source": [
    "def feed_data(iterations, steps):\n",
    "    \n",
    "    data_out = []\n",
    "    for dataset in data_in:\n",
    "        data_out.append([])\n",
    "    \n",
    "    targets = []\n",
    "    \n",
    "    for iteration in iterations:\n",
    "        data_t = []\n",
    "        \n",
    "        d_out = []\n",
    "        for dataset in data_out:\n",
    "            d_out.append([])\n",
    "        \n",
    "        offset = iteration * train_length\n",
    "\n",
    "        for i in range(steps):\n",
    "            for idx, dataset in enumerate(data_in):\n",
    "                data = d_out[idx]\n",
    "                input_seq = dataset[offset + i : offset + i + input_size]\n",
    "                data.append(input_seq)\n",
    "\n",
    "            target_seq = target_set[offset + i + input_size : offset + i + input_size + output_size]\n",
    "            data_t.append(target_seq)\n",
    "            \n",
    "        for idx, dataset in enumerate(data_out):\n",
    "            dataset.append(d_out[idx])\n",
    "            \n",
    "        targets.append(data_t)\n",
    "\n",
    "    return (offset, data_out, targets)"
   ]
  },
  {
   "cell_type": "markdown",
   "metadata": {},
   "source": [
    "Set a few things up for the session"
   ]
  },
  {
   "cell_type": "code",
   "execution_count": 12,
   "metadata": {
    "collapsed": true
   },
   "outputs": [],
   "source": [
    "from random import sample\n",
    "\n",
    "train_range = range(50)\n",
    "total_cost = 0\n",
    "last_loss = 0\n",
    "\n",
    "currentSession = tf.Session()\n",
    "\n",
    "tf.global_variables_initializer().run(session = currentSession)\n",
    "\n",
    "starting_epoch = 0"
   ]
  },
  {
   "cell_type": "markdown",
   "metadata": {},
   "source": [
    "Play with different learning rates"
   ]
  },
  {
   "cell_type": "code",
   "execution_count": 13,
   "metadata": {
    "collapsed": true
   },
   "outputs": [],
   "source": [
    "def learning_schedule(epoch):\n",
    "    flr = 0.001\n",
    "    if (epoch > 180):\n",
    "        flr = 0.0008\n",
    "    if (epoch > 360):\n",
    "        flr = 0.0006\n",
    "    if (epoch > 600):\n",
    "        flr = 0.0002\n",
    "    if (epoch > 1500):\n",
    "        flr = 0.00002\n",
    "    return flr"
   ]
  },
  {
   "cell_type": "markdown",
   "metadata": {},
   "source": [
    "Start training - choose a dropout rate"
   ]
  },
  {
   "cell_type": "code",
   "execution_count": 14,
   "metadata": {},
   "outputs": [],
   "source": [
    "def validate(validation_point):\n",
    "    no_drop = tf.assign(global_dropout, 1.0)\n",
    "    drop = currentSession.run(no_drop)\n",
    "\n",
    "    test_offset = [] \n",
    "    #The network still wants batches at the moment\n",
    "    for i in range(batch_size):\n",
    "        test_offset.append(validation_point)\n",
    "        \n",
    "    offset, data_out, targets = feed_data(test_offset, train_steps)\n",
    "\n",
    "    feed_dict={'targets:0': targets}\n",
    "    for idx in range(input_count):\n",
    "        feed_dict.update({inputs[idx].name: data_out[idx]})\n",
    "\n",
    "    test_logits, current_loss, fstate = currentSession.run([logits, loss, save_dict['final_state']], feed_dict)\n",
    "\n",
    "    distance = 25\n",
    "    #predictions at different distances from the input\n",
    "    far_away = test_logits[0][:,distance]\n",
    "    mid = test_logits[0][:,7]\n",
    "    close = test_logits[0][:,1]\n",
    "\n",
    "    test_size = input_size + distance\n",
    "    offset, data_out, targets = feed_data(test_offset, train_steps)\n",
    "    ts = np.stack(targets[0])\n",
    "    ts = np.array(targets[0])[:,0]\n",
    "    \n",
    "    return current_loss, far_away, ts"
   ]
  },
  {
   "cell_type": "code",
   "execution_count": 39,
   "metadata": {},
   "outputs": [
    {
     "name": "stdout",
     "output_type": "stream",
     "text": [
      "(22, 4, 0.012, 0.54646076308563352, 210, 18.03114574495703, 0.0008, 0.01092921526171267, 0.0089054992)\n",
      "(0.018522994980836909, [10, 12, 18, 9, 5, 2, 11, 13, 15, 4, 3, 7])\n"
     ]
    }
   ],
   "source": [
    "dropit = tf.assign(global_dropout, 0.9)\n",
    "\n",
    "drop = currentSession.run(dropit)\n",
    "\n",
    "for epoch in range(starting_epoch, 211):\n",
    "    starting_epoch = epoch\n",
    "    \n",
    "    iterations = []\n",
    "    \n",
    "    train_ranges = [] \n",
    "    \n",
    "    epoch_loss = 0\n",
    "    \n",
    "    for i in range(batch_size):\n",
    "        train_ranges.append(sample(train_range, 50))\n",
    "        \n",
    "    batch_offsets = np.reshape(train_ranges, (-1, batch_size))\n",
    "    \n",
    "    for offsets in batch_offsets:\n",
    "        offset, data_out, targets = feed_data(offsets, train_steps)\n",
    "        \n",
    "        flr = learning_schedule(epoch)\n",
    "        \n",
    "        feed = {'targets:0': targets, 'new_learning_rate:0': flr, dropit: 0.9}\n",
    "        \n",
    "        for idx in range(input_count):\n",
    "            feed.update({inputs[idx].name: data_out[idx]})\n",
    "        \n",
    "        partial_loss, train, fstate = currentSession.run([loss, train_op, save_dict['final_state']], feed_dict=feed)\n",
    "        #allow a little time for initial variation to die down\n",
    "        if epoch > 0:\n",
    "            epoch_loss = epoch_loss + partial_loss\n",
    "        \n",
    "    total_cost = epoch_loss + total_cost\n",
    "    \n",
    "    if epoch % 30 == 0:\n",
    "        running_loss = total_cost - last_loss\n",
    "        last_loss = total_cost\n",
    "        av_loss = epoch_loss / 50\n",
    "        print(hidden_size, batch_size, beta_val, epoch_loss, epoch, running_loss, flr, av_loss, partial_loss)\n",
    "        \n",
    "        indices = 12\n",
    "        val_range = sample(xrange(20), indices)\n",
    "        validate_average = 0\n",
    "        \n",
    "        for value in val_range:\n",
    "            validate_offset = value + 50\n",
    "            validations, _, _ = validate(validate_offset)\n",
    "            validate_average = validate_average + validations\n",
    "            \n",
    "        print(validate_average / indices, val_range) "
   ]
  },
  {
   "cell_type": "markdown",
   "metadata": {},
   "source": [
    "Results from previous run\n",
    "(22, 4, 0.012, 0.75928797852247953, 30, 28.130740600638092, 0.001, 0.01518575957044959, 0.025324259)\n",
    "(0.01991733970741431, [3, 5, 11, 6, 13, 16, 7, 2, 17, 10, 9, 1])\n",
    "(22, 4, 0.012, 0.56991863530129194, 60, 19.984842267818749, 0.001, 0.011398372706025839, 0.0092041623)\n",
    "(0.019945473720630009, [16, 10, 5, 1, 8, 11, 9, 6, 2, 3, 19, 15])\n",
    "(22, 4, 0.012, 0.53841507947072387, 90, 16.683391402009875, 0.001, 0.010768301589414477, 0.012398911)\n",
    "(0.020400462982555229, [9, 12, 16, 17, 7, 14, 4, 0, 8, 5, 15, 2])\n",
    "(22, 4, 0.012, 0.35388133488595486, 120, 12.493187983520329, 0.001, 0.007077626697719097, 0.011706958)\n",
    "(0.022565561967591446, [0, 17, 3, 6, 4, 7, 15, 19, 5, 8, 16, 18])\n",
    "(22, 4, 0.012, 0.31174778053537011, 150, 11.304671347606927, 0.001, 0.0062349556107074025, 0.0073217414)\n",
    "(0.021213628894959886, [6, 19, 4, 2, 15, 5, 0, 17, 16, 12, 9, 7])\n",
    "(22, 4, 0.012, 0.54646076308563352, 210, 18.03114574495703, 0.0008, 0.01092921526171267, 0.0089054992)\n",
    "(0.018522994980836909, [10, 12, 18, 9, 5, 2, 11, 13, 15, 4, 3, 7])"
   ]
  },
  {
   "cell_type": "markdown",
   "metadata": {},
   "source": [
    "It's simple to train and restart"
   ]
  },
  {
   "cell_type": "code",
   "execution_count": 53,
   "metadata": {},
   "outputs": [
    {
     "data": {
      "text/plain": [
       "'checkpoints/gru_cell_210'"
      ]
     },
     "execution_count": 53,
     "metadata": {},
     "output_type": "execute_result"
    }
   ],
   "source": [
    "saver = tf.train.Saver()\n",
    "saver.save(currentSession, 'checkpoints/{0}_{1}'.format(cell_name, epoch))"
   ]
  },
  {
   "cell_type": "markdown",
   "metadata": {},
   "source": [
    "Without having to create a new network we can take a look at how things are going"
   ]
  },
  {
   "cell_type": "markdown",
   "metadata": {},
   "source": [
    "We can plot the predictions at different prediction points"
   ]
  },
  {
   "cell_type": "code",
   "execution_count": 40,
   "metadata": {},
   "outputs": [
    {
     "name": "stdout",
     "output_type": "stream",
     "text": [
      "0.0123539\n"
     ]
    },
    {
     "data": {
      "image/png": "[encoded data removed]",
      "text/plain": [
       "<matplotlib.figure.Figure at 0x7f7de77ee650>"
      ]
     },
     "metadata": {},
     "output_type": "display_data"
    }
   ],
   "source": [
    "validations, far_away, ts = validate(57)\n",
    "\n",
    "print(validations)\n",
    "\n",
    "import matplotlib.pyplot as plt\n",
    "plt.plot(far_away, 'r')\n",
    "# plt.plot(mid[18:], 'y')\n",
    "# plt.plot(close[25:], 'g')\n",
    "plt.plot(ts, 'b')\n",
    "plt.axis([0.0,train_steps,0.0,1.02])\n",
    "plt.show()"
   ]
  },
  {
   "cell_type": "markdown",
   "metadata": {},
   "source": [
    "Some example results at offset 57\n",
    "0.0123539 (22, 4, 0.012, 0.54646076308563352, 210, 18.03114574495703, 0.0008, 0.01092921526171267, 0.0089054992)\n",
    "(16, 0.007, 'offset', [57, 57, 57, 57], 4788, 26, 0.014154767, 126)\n",
    "(16, 0.006, 'offset', [57, 57, 57, 57], 4788, 26, 0.015169268, 122)\n",
    "(16, 0.006, 'offset', [57, 57, 57, 57], 4788, 26, 0.015310187, 98)\n",
    "(16, 0.004, 'offset', [57, 57, 57, 57], 4788, 26, 0.01529764, 66)\n",
    "(16, 0.002, 'offset', [57, 57, 57, 57], 4788, 26, 0.017894622, 195)\n",
    "(16, 0.002, 'offset', [57, 57, 57, 57], 4788, 26, 0.01718206, 160)\n",
    "(16, 0.002, 'offset', [57, 57, 57, 57], 4788, 26, 0.019261345, 122)"
   ]
  },
  {
   "cell_type": "code",
   "execution_count": 41,
   "metadata": {},
   "outputs": [
    {
     "data": {
      "text/plain": [
       "'checkpoints/predict4_210'"
      ]
     },
     "execution_count": 41,
     "metadata": {},
     "output_type": "execute_result"
    }
   ],
   "source": [
    "saver = tf.train.Saver()\n",
    "saver.save(currentSession, 'checkpoints/predict{0}_{1}'.format(batch_size, epoch))"
   ]
  },
  {
   "cell_type": "markdown",
   "metadata": {},
   "source": [
    "We're now going to save the batching network and create a different network with batch size 1 and 1 training step which we can use for making predictions from a stream"
   ]
  },
  {
   "cell_type": "code",
   "execution_count": 42,
   "metadata": {
    "collapsed": true
   },
   "outputs": [],
   "source": [
    "p_batch = 1\n",
    "    \n",
    "p_loss, p_cost, p_logits, p_save_dict = sq_net.sequence_layer(1, p_batch, input_size, output_size, \\\n",
    "                       input_count, layer_count, hidden_size, cell, cell_kernel, beta, False, True)\n",
    "\n",
    "p_inputs = p_save_dict['inputs']"
   ]
  },
  {
   "cell_type": "code",
   "execution_count": 43,
   "metadata": {},
   "outputs": [
    {
     "name": "stdout",
     "output_type": "stream",
     "text": [
      "INFO:tensorflow:Restoring parameters from checkpoints/predict4_210\n"
     ]
    }
   ],
   "source": [
    "sess = tf.Session()  \n",
    "sess.run(tf.global_variables_initializer())\n",
    "saver = tf.train.Saver()\n",
    "saver.restore(sess, 'checkpoints/predict{0}_{1}'.format(batch_size, epoch))"
   ]
  },
  {
   "cell_type": "markdown",
   "metadata": {},
   "source": [
    "Choose test_offset for in training or out of training predictions"
   ]
  },
  {
   "cell_type": "code",
   "execution_count": 51,
   "metadata": {},
   "outputs": [],
   "source": [
    "test_offset = [57] \n",
    "\n",
    "offset, input_data, targets = feed_data(test_offset, 520)\n",
    "\n",
    "predictions = []\n",
    "targets_o = []\n",
    "\n",
    "state = None\n",
    "\n",
    "for i in range(400):\n",
    "    feed_dict={}\n",
    "    \n",
    "    for idx in range(input_count):\n",
    "        new_data = np.reshape(input_data[idx][0][i], (1,1,35))\n",
    "        feed_dict.update({p_inputs[idx].name: new_data})\n",
    "\n",
    "    if state is not None:\n",
    "        for idx in range(input_count):\n",
    "            feed_dict.update({p_save_dict['inital_state'][idx]: state[idx]})\n",
    "        \n",
    "    run_logits, state = sess.run([p_logits, p_save_dict['final_state']], feed_dict)\n",
    "    predictions.append(run_logits[0][0][output_size-1])\n",
    "    targets_o.append(targets[0][i][output_size-1])"
   ]
  },
  {
   "cell_type": "code",
   "execution_count": 52,
   "metadata": {},
   "outputs": [
    {
     "data": {
      "image/png": "[encoded data removed]",
      "text/plain": [
       "<matplotlib.figure.Figure at 0x7f7dc64cf3d0>"
      ]
     },
     "metadata": {},
     "output_type": "display_data"
    }
   ],
   "source": [
    "plt.plot(predictions, 'r')\n",
    "plt.plot(targets_o, 'b')\n",
    "plt.axis([100.0,420,0.0,1.02])\n",
    "plt.show()"
   ]
  },
  {
   "cell_type": "code",
   "execution_count": null,
   "metadata": {
    "collapsed": true
   },
   "outputs": [],
   "source": []
  }
 ],
 "metadata": {
  "kernelspec": {
   "display_name": "Python 2",
   "language": "python",
   "name": "python2"
  },
  "language_info": {
   "codemirror_mode": {
    "name": "ipython",
    "version": 2
   },
   "file_extension": ".py",
   "mimetype": "text/x-python",
   "name": "python",
   "nbconvert_exporter": "python",
   "pygments_lexer": "ipython2",
   "version": "2.7.12"
  }
 },
 "nbformat": 4,
 "nbformat_minor": 2
}
