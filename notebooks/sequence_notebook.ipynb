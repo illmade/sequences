{
 "cells": [
  {
   "cell_type": "code",
   "execution_count": 1,
   "metadata": {
    "collapsed": true
   },
   "outputs": [],
   "source": [
    "import tensorflow as tf\n",
    "import numpy as np\n",
    "import sys\n",
    "import os\n",
    "import matplotlib.pyplot as plt\n",
    "\n",
    "sys.path.append(os.path.abspath(\"/notebooks\"))\n",
    "import sq_net"
   ]
  },
  {
   "cell_type": "markdown",
   "metadata": {},
   "source": [
    "Our lstm cells have an internal size - hidden size\n",
    "And a size that matches the input    - input size\n",
    "\n",
    "We can change the cell() defintion to try out other cell types"
   ]
  },
  {
   "cell_type": "code",
   "execution_count": 2,
   "metadata": {
    "collapsed": true
   },
   "outputs": [],
   "source": [
    "hidden_size = 32\n",
    "input_size = 35\n",
    "output_size = 26\n",
    "layer_count = 3\n",
    "train_steps = 120\n",
    "batch_size = 16\n",
    "input_count = 4\n",
    "\n",
    "#beta is the regularization\n",
    "beta_val = 0.0002\n",
    "beta = tf.Variable(beta_val, trainable=False)\n",
    "train_length = train_steps - input_size - 1\n",
    "\n",
    "cell_name = \"gru_cell\"\n",
    "cell_kernel = \"{0}/gates\".format(cell_name)\n",
    "\n",
    "global_dropout = tf.Variable(0.9, trainable=False)\n",
    "\n",
    "# gru_cell/gates, basic_lstm_cell\n",
    "def cell():\n",
    "    lcell = tf.nn.rnn_cell.GRUCell(hidden_size)\n",
    "    return tf.nn.rnn_cell.DropoutWrapper(lcell, input_keep_prob=global_dropout)"
   ]
  },
  {
   "cell_type": "markdown",
   "metadata": {},
   "source": [
    "Set up the network and a trainer"
   ]
  },
  {
   "cell_type": "code",
   "execution_count": 3,
   "metadata": {
    "collapsed": true
   },
   "outputs": [],
   "source": [
    "loss, cost, logits, save_dict = sq_net.sequence_layer(train_steps, batch_size, input_size, output_size, \\\n",
    "                        input_count, layer_count, hidden_size, cell, cell_kernel, beta, global_dropout, None)\n",
    "\n",
    "inputs = save_dict['inputs']"
   ]
  },
  {
   "cell_type": "code",
   "execution_count": 4,
   "metadata": {
    "collapsed": true
   },
   "outputs": [],
   "source": [
    "train_op, grads = sq_net.adam_train(cost)"
   ]
  },
  {
   "cell_type": "markdown",
   "metadata": {},
   "source": [
    "Import the AirQuality data from the csv file"
   ]
  },
  {
   "cell_type": "code",
   "execution_count": 5,
   "metadata": {
    "collapsed": true
   },
   "outputs": [],
   "source": [
    "filename_queue = tf.train.string_input_producer([\"data/AirQualityUCI.csv\"])\n",
    "\n",
    "reader = tf.TextLineReader(1)\n",
    "key, value = reader.read_up_to(filename_queue, 8000)"
   ]
  },
  {
   "cell_type": "code",
   "execution_count": 6,
   "metadata": {
    "collapsed": true
   },
   "outputs": [],
   "source": [
    "# Date1;Time2;3CO(GT);4PT08.S1(CO);5NMHC(GT);6C6H6(GT);7PT08.S2(NMHC);8NOx(GT);9PT08.S3(NOx);10NO2(GT);11PT08.S4(NO2);12PT08.S5(O3);12T;14RH;15AH;;\n",
    "record_defaults = [[\"0\"],[\"0\"],[\"0\"],[\"0\"],[\"0\"],[\"0\"],[\"0\"],[\"0\"],[\"0\"],[\"0\"],[\"0\"],[\"0\"],[\"0\"],[\"0\"],[\"0\"],[\"0\"],[\"0\"]]\n",
    "\n",
    "cols = tf.decode_csv(value, record_defaults=record_defaults, field_delim=\";\")\n",
    "\n",
    "ptco = tf.string_to_number(cols[3])\n",
    "ptco_max = tf.reduce_max(ptco)\n",
    "ptco_norm = ptco / ptco_max\n",
    "\n",
    "nmhc = tf.string_to_number(cols[4])\n",
    "nmhc_max = tf.reduce_max(nmhc)\n",
    "nmhc_norm = nmhc / nmhc_max\n",
    "\n",
    "# c6h6 = cols[5]\n",
    "\n",
    "pts2 = tf.string_to_number(cols[6])\n",
    "pts2_max = tf.reduce_max(pts2)\n",
    "pts2_norm = pts2 / pts2_max\n",
    "\n",
    "nox = tf.string_to_number(cols[7])\n",
    "nox_max = tf.reduce_max(nox)\n",
    "nox_norm = nox / nox_max\n",
    "\n",
    "no2 = tf.string_to_number(cols[9])\n",
    "no2_max = tf.reduce_max(no2)\n",
    "no2_norm = no2 / no2_max\n",
    "\n",
    "o3 = tf.string_to_number(cols[11])\n",
    "o3_max = tf.reduce_max(o3)\n",
    "o3_norm = o3 / o3_max"
   ]
  },
  {
   "cell_type": "markdown",
   "metadata": {},
   "source": [
    "Read the data using a queue runner"
   ]
  },
  {
   "cell_type": "code",
   "execution_count": 7,
   "metadata": {
    "collapsed": true
   },
   "outputs": [],
   "source": [
    "with tf.Session() as sess:\n",
    "    coord = tf.train.Coordinator()\n",
    "    threads = tf.train.start_queue_runners(coord=coord)\n",
    "\n",
    "    full_data, ptco_norm_data, pts2_norm_data, nmhc_norm_data, \\\n",
    "        nox_data, nox_norm_data, no2_data, no2_norm_data, o3_data, o3_norm_data = \\\n",
    "        sess.run([cols, ptco_norm, pts2_norm, nmhc_norm, nox, nox_norm, no2, no2_norm, o3, o3_norm])\n",
    "        \n",
    "    coord.request_stop()\n",
    "    coord.join(threads)"
   ]
  },
  {
   "cell_type": "markdown",
   "metadata": {},
   "source": [
    "We can choose different gases to train with and target"
   ]
  },
  {
   "cell_type": "code",
   "execution_count": 8,
   "metadata": {
    "collapsed": true
   },
   "outputs": [],
   "source": [
    "training_set_a = pts2_norm_data[:8000]\n",
    "training_set_b = ptco_norm_data[:8000]\n",
    "training_set_c = nox_norm_data[:8000]\n",
    "training_set_d = no2_norm_data[:8000]\n",
    "\n",
    "target_set = o3_norm_data[:8000]"
   ]
  },
  {
   "cell_type": "markdown",
   "metadata": {},
   "source": [
    "Our data feed will adjust based on the data we set with data_in"
   ]
  },
  {
   "cell_type": "code",
   "execution_count": 9,
   "metadata": {
    "collapsed": true
   },
   "outputs": [],
   "source": [
    "data_in = [training_set_a, training_set_b, training_set_c, training_set_d]"
   ]
  },
  {
   "cell_type": "markdown",
   "metadata": {},
   "source": [
    "Lets look at some of the data"
   ]
  },
  {
   "cell_type": "code",
   "execution_count": 10,
   "metadata": {},
   "outputs": [
    {
     "data": {
      "image/png": "[encoded data removed]",
      "text/plain": [
       "<matplotlib.figure.Figure at 0x7f0adbb00110>"
      ]
     },
     "metadata": {},
     "output_type": "display_data"
    }
   ],
   "source": [
    "plt.plot(target_set, 'b')\n",
    "plt.plot(training_set_d, 'r')\n",
    "plt.show()"
   ]
  },
  {
   "cell_type": "markdown",
   "metadata": {},
   "source": [
    "Grab a bunch of data for training/testing"
   ]
  },
  {
   "cell_type": "code",
   "execution_count": 11,
   "metadata": {
    "collapsed": true
   },
   "outputs": [],
   "source": [
    "def feed_data(iterations, steps):\n",
    "    \n",
    "    data_out = []\n",
    "    for dataset in data_in:\n",
    "        data_out.append([])\n",
    "    \n",
    "    targets = []\n",
    "    \n",
    "    for iteration in iterations:\n",
    "        data_t = []\n",
    "        \n",
    "        d_out = []\n",
    "        for dataset in data_out:\n",
    "            d_out.append([])\n",
    "        \n",
    "        offset = iteration * train_length\n",
    "\n",
    "        for i in range(steps):\n",
    "            for idx, dataset in enumerate(data_in):\n",
    "                data = d_out[idx]\n",
    "                input_seq = dataset[offset + i : offset + i + input_size]\n",
    "                data.append(input_seq)\n",
    "\n",
    "            target_seq = target_set[offset + i + input_size : offset + i + input_size + output_size]\n",
    "            data_t.append(target_seq)\n",
    "            \n",
    "        for idx, dataset in enumerate(data_out):\n",
    "            dataset.append(d_out[idx])\n",
    "            \n",
    "        targets.append(data_t)\n",
    "\n",
    "    return (offset, data_out, targets)"
   ]
  },
  {
   "cell_type": "markdown",
   "metadata": {},
   "source": [
    "Set a few things up for the session"
   ]
  },
  {
   "cell_type": "code",
   "execution_count": 12,
   "metadata": {
    "collapsed": true
   },
   "outputs": [],
   "source": [
    "from random import sample\n",
    "\n",
    "train_range = range(50)\n",
    "total_cost = 0\n",
    "last_loss = 0\n",
    "\n",
    "currentSession = tf.Session()\n",
    "\n",
    "merged = tf.summary.merge_all()\n",
    "train_writer = tf.summary.FileWriter('summaries/train/b', currentSession.graph)\n",
    "\n",
    "tf.global_variables_initializer().run(session = currentSession)\n",
    "\n",
    "starting_epoch = 0\n",
    "\n",
    "progress = 0"
   ]
  },
  {
   "cell_type": "markdown",
   "metadata": {},
   "source": [
    "Play with different learning rates"
   ]
  },
  {
   "cell_type": "code",
   "execution_count": 16,
   "metadata": {
    "collapsed": true
   },
   "outputs": [],
   "source": [
    "def learning_schedule(step):\n",
    "    flr = 0.005\n",
    "    if (step > 6000):\n",
    "        flr = 0.001\n",
    "    if (step > 8000):\n",
    "        flr = 0.0008\n",
    "    if (step > 14000):\n",
    "        flr = 0.0006\n",
    "    if (step > 16000):\n",
    "        flr = 0.0002\n",
    "    if (step > 21000):\n",
    "        flr = 0.00002\n",
    "    return flr"
   ]
  },
  {
   "cell_type": "code",
   "execution_count": 14,
   "metadata": {
    "collapsed": true
   },
   "outputs": [],
   "source": [
    "def validate(validation_point):\n",
    "    no_drop = tf.assign(global_dropout, 1.0)\n",
    "    drop = currentSession.run(no_drop)\n",
    "\n",
    "    test_offset = [] \n",
    "    #The network still wants batches at the moment\n",
    "    for i in range(batch_size):\n",
    "        test_offset.append(validation_point)\n",
    "        \n",
    "    offset, data_out, targets = feed_data(test_offset, train_steps)\n",
    "\n",
    "    feed_dict={'targets:0': targets}\n",
    "    for idx in range(input_count):\n",
    "        feed_dict.update({inputs[idx].name: data_out[idx]})\n",
    "\n",
    "    test_logits, current_loss, fstate = currentSession.run([logits, loss, save_dict['final_state']], feed_dict)\n",
    "\n",
    "    distance = 25\n",
    "    #predictions at different distances from the input\n",
    "    far_away = test_logits[0][:,distance]\n",
    "    mid = test_logits[0][:,7]\n",
    "    close = test_logits[0][:,1]\n",
    "\n",
    "    test_size = input_size + distance\n",
    "    offset, data_out, targets = feed_data(test_offset, train_steps)\n",
    "    ts = np.stack(targets[0])\n",
    "    ts = np.array(targets[0])[:,0]\n",
    "    \n",
    "    return current_loss, far_away, ts"
   ]
  },
  {
   "cell_type": "markdown",
   "metadata": {},
   "source": [
    "Start training - choose a dropout rate"
   ]
  },
  {
   "cell_type": "code",
   "execution_count": 18,
   "metadata": {},
   "outputs": [],
   "source": [
    "drop_val = 0.8\n",
    "\n",
    "dropit = tf.assign(global_dropout, drop_val)\n",
    "\n",
    "drop = currentSession.run(dropit)\n",
    "\n",
    "for epoch in range(starting_epoch, 395):\n",
    "    starting_epoch = epoch\n",
    "    \n",
    "    iterations = []\n",
    "    \n",
    "    train_ranges = [] \n",
    "    \n",
    "    epoch_loss = 0\n",
    "    \n",
    "    for i in range(batch_size):\n",
    "        train_ranges.append(sample(train_range, 50))\n",
    "        \n",
    "    batch_offsets = np.reshape(train_ranges, (-1, batch_size))\n",
    "    \n",
    "    for offsets in batch_offsets:\n",
    "        offset, data_out, targets = feed_data(offsets, train_steps)\n",
    "        \n",
    "        flr = learning_schedule(progress)\n",
    "        \n",
    "        feed = {'targets:0': targets, 'learning_rate:0': flr, dropit: drop_val}\n",
    "        \n",
    "        for idx in range(input_count):\n",
    "            feed.update({inputs[idx].name: data_out[idx]})\n",
    "        \n",
    "        summary, partial_loss, train, fstate = currentSession.run([merged, loss, train_op, save_dict['final_state']], \\\n",
    "                                                                  feed_dict=feed)\n",
    "        \n",
    "        train_writer.add_summary(summary, progress)\n",
    "        progress = progress + 1\n",
    "        #allow a little time for initial variation to die down\n",
    "        if epoch > 0:\n",
    "            epoch_loss = epoch_loss + partial_loss\n",
    "        \n",
    "    total_cost = epoch_loss + total_cost\n",
    "    \n",
    "    if epoch % 30 == 0:\n",
    "        running_loss = total_cost - last_loss\n",
    "        last_loss = total_cost\n",
    "        av_loss = epoch_loss / 50\n",
    "        print(hidden_size, batch_size, beta_val, epoch_loss, epoch, running_loss, flr, av_loss, partial_loss)\n",
    "        \n",
    "        indices = 12\n",
    "        val_range = sample(xrange(20), indices)\n",
    "        validate_average = 0\n",
    "        \n",
    "        for value in val_range:\n",
    "            validate_offset = value + 50\n",
    "            validations, _, _ = validate(validate_offset)\n",
    "            validate_average = validate_average + validations\n",
    "\n",
    "        no_drop = tf.assign(global_dropout, 0.8)\n",
    "        drop = currentSession.run(no_drop)\n",
    "            \n",
    "        print(validate_average / indices, val_range) "
   ]
  },
  {
   "cell_type": "markdown",
   "metadata": {},
   "source": [
    "(22, 16, 0.0002, 0.3133568037301302, 300, 9.8163413042202592, 0.0006, 0.006267136074602604, 0.0056910324)\n",
    "(0.020415419712662697, [0, 8, 19, 18, 9, 15, 14, 5, 4, 6, 17, 12])\n",
    "(22, 16, 0.0002, 0.30690161604434252, 330, 9.335203982423991, 0.0002, 0.0061380323208868499, 0.0060125538)\n",
    "(0.024062525869036715, [10, 6, 12, 17, 14, 13, 16, 18, 2, 5, 11, 8])\n",
    "(22, 16, 0.0002, 0.30609454261139035, 360, 9.1924056150019169, 0.0002, 0.006121890852227807, 0.0058105011)\n",
    "(0.022401178876558941, [12, 8, 2, 1, 11, 6, 14, 15, 13, 4, 10, 9])\n",
    "(22, 16, 0.0002, 0.30363314179703593, 390, 9.1560970405116677, 0.0002, 0.0060726628359407189, 0.0057852077)\n",
    "(0.024297634682928521, [19, 11, 8, 1, 0, 13, 14, 15, 12, 7, 3, 4])\n",
    "\n",
    "Results from previous run\n",
    "(22, 4, 0.012, 0.75928797852247953, 30, 28.130740600638092, 0.001, 0.01518575957044959, 0.025324259)\n",
    "(0.01991733970741431, [3, 5, 11, 6, 13, 16, 7, 2, 17, 10, 9, 1])\n",
    "(22, 4, 0.012, 0.56991863530129194, 60, 19.984842267818749, 0.001, 0.011398372706025839, 0.0092041623)\n",
    "(0.019945473720630009, [16, 10, 5, 1, 8, 11, 9, 6, 2, 3, 19, 15])\n",
    "(22, 4, 0.012, 0.53841507947072387, 90, 16.683391402009875, 0.001, 0.010768301589414477, 0.012398911)\n",
    "(0.020400462982555229, [9, 12, 16, 17, 7, 14, 4, 0, 8, 5, 15, 2])\n",
    "(22, 4, 0.012, 0.35388133488595486, 120, 12.493187983520329, 0.001, 0.007077626697719097, 0.011706958)\n",
    "(0.022565561967591446, [0, 17, 3, 6, 4, 7, 15, 19, 5, 8, 16, 18])\n",
    "(22, 4, 0.012, 0.31174778053537011, 150, 11.304671347606927, 0.001, 0.0062349556107074025, 0.0073217414)\n",
    "(0.021213628894959886, [6, 19, 4, 2, 15, 5, 0, 17, 16, 12, 9, 7])\n",
    "(22, 4, 0.012, 0.54646076308563352, 210, 18.03114574495703, 0.0008, 0.01092921526171267, 0.0089054992)\n",
    "(0.018522994980836909, [10, 12, 18, 9, 5, 2, 11, 13, 15, 4, 3, 7])\n",
    "\n",
    "\n",
    "*******\n",
    "(22, 8, 0.016, 0, 0, 0, 0.001, 0, 0.026430946)\n",
    "(0.032205939525738358, [15, 11, 1, 12, 8, 6, 9, 3, 2, 18, 4, 13])\n",
    "(22, 8, 0.016, 0.77701491117477417, 30, 27.029327136464417, 0.001, 0.015540298223495484, 0.012644939)\n",
    "(0.022979985301693279, [13, 5, 0, 14, 12, 1, 4, 7, 11, 2, 17, 6])\n",
    "(22, 8, 0.016, 0.73235377483069897, 60, 23.532660925760865, 0.001, 0.01464707549661398, 0.015665311)\n",
    "(0.019436083035543561, [3, 2, 6, 7, 12, 5, 15, 17, 9, 0, 10, 11])\n",
    "(22, 8, 0.016, 0.6555849714204669, 90, 20.78133162483573, 0.001, 0.013111699428409338, 0.012796191)\n",
    "(0.020664084004238248, [14, 7, 9, 8, 6, 4, 3, 12, 16, 5, 13, 18])\n",
    "(22, 8, 0.016, 0.72552435472607613, 120, 20.182675201445818, 0.001, 0.014510487094521523, 0.010681516)\n",
    "(0.019372141221538186, [11, 0, 6, 8, 17, 16, 14, 10, 5, 7, 2, 3])\n",
    "(22, 8, 0.016, 0.57952790893614292, 150, 18.611567541956902, 0.001, 0.011590558178722858, 0.012818389)\n",
    "(0.021197795247038204, [13, 19, 4, 7, 18, 10, 0, 1, 11, 9, 12, 15])\n",
    "(22, 8, 0.016, 0.59323347639292479, 180, 17.638431374449283, 0.001, 0.011864669527858496, 0.013732762)\n",
    "(0.022313984188561637, [15, 7, 0, 10, 16, 13, 8, 4, 2, 14, 12, 5])\n",
    "(22, 8, 0.016, 0.55298889242112637, 210, 17.036189836449921, 0.0008, 0.011059777848422526, 0.0091538271)\n",
    "(0.023156357385839026, [14, 19, 13, 0, 8, 3, 18, 7, 1, 11, 16, 5])\n",
    "(22, 8, 0.016, 0.50631409976631403, 240, 15.846848386339843, 0.0008, 0.010126281995326281, 0.0092495885)\n",
    "(0.020125681301578879, [0, 12, 16, 14, 19, 4, 1, 5, 7, 3, 9, 15])\n",
    "(22, 8, 0.016, 0.70553555712103844, 270, 17.684835837222636, 0.0008, 0.014110711142420769, 0.012239807)\n",
    "(0.018002962383131187, [7, 4, 12, 19, 6, 2, 11, 9, 8, 1, 10, 5])\n",
    "(22, 8, 0.016, 0.65702436957508326, 300, 21.372702517546713, 0.0008, 0.013140487391501665, 0.01766105)\n",
    "(0.027398040673385065, [8, 18, 12, 7, 1, 19, 2, 9, 14, 6, 0, 4])\n",
    "(22, 8, 0.016, 0.60001945402473211, 330, 19.56549764610827, 0.0008, 0.012000389080494642, 0.012756304)\n",
    "(0.023783902171999216, [12, 14, 1, 4, 18, 17, 3, 9, 10, 0, 8, 2])\n",
    "(22, 8, 0.016, 0.76574821677058935, 360, 17.596865852829069, 0.0008, 0.015314964335411787, 0.015783155)\n",
    "(0.023949965989838045, [14, 17, 13, 3, 6, 12, 4, 16, 8, 15, 0, 7])\n",
    "(22, 8, 0.016, 0.6361575610935688, 390, 20.046616850420833, 0.0006, 0.012723151221871376, 0.012433306)\n",
    "(0.023572704754769802, [5, 0, 9, 6, 14, 7, 18, 8, 1, 16, 12, 10])"
   ]
  },
  {
   "cell_type": "markdown",
   "metadata": {},
   "source": [
    "It's simple to train and restart"
   ]
  },
  {
   "cell_type": "code",
   "execution_count": 19,
   "metadata": {},
   "outputs": [
    {
     "data": {
      "text/plain": [
       "'checkpoints/gru_cell_394'"
      ]
     },
     "execution_count": 19,
     "metadata": {},
     "output_type": "execute_result"
    }
   ],
   "source": [
    "saver = tf.train.Saver()\n",
    "saver.save(currentSession, 'checkpoints/{0}_{1}'.format(cell_name, epoch))"
   ]
  },
  {
   "cell_type": "markdown",
   "metadata": {},
   "source": [
    "Without having to create a new network we can take a look at how things are going"
   ]
  },
  {
   "cell_type": "markdown",
   "metadata": {},
   "source": [
    "We can plot the predictions at different prediction points"
   ]
  },
  {
   "cell_type": "code",
   "execution_count": 32,
   "metadata": {},
   "outputs": [
    {
     "name": "stdout",
     "output_type": "stream",
     "text": [
      "0.0160164\n"
     ]
    },
    {
     "data": {
      "image/png": "[encoded data removed]",
      "text/plain": [
       "<matplotlib.figure.Figure at 0x7f0ad9746810>"
      ]
     },
     "metadata": {},
     "output_type": "display_data"
    }
   ],
   "source": [
    "validations, far_away, ts = validate(57)\n",
    "\n",
    "print(validations)\n",
    "\n",
    "import matplotlib.pyplot as plt\n",
    "plt.plot(far_away, 'r')\n",
    "# plt.plot(mid[18:], 'y')\n",
    "# plt.plot(close[25:], 'g')\n",
    "plt.plot(ts, 'b')\n",
    "plt.axis([0.0,train_steps,0.0,1.02])\n",
    "plt.show()"
   ]
  },
  {
   "cell_type": "markdown",
   "metadata": {},
   "source": [
    "Some example results at offset 57\n",
    "0.0123539 (22, 4, 0.012, 0.54646076308563352, 210, 18.03114574495703, 0.0008, 0.01092921526171267, 0.0089054992)\n",
    "(16, 0.007, 'offset', [57, 57, 57, 57], 4788, 26, 0.014154767, 126)\n",
    "(16, 0.006, 'offset', [57, 57, 57, 57], 4788, 26, 0.015169268, 122)\n",
    "(16, 0.006, 'offset', [57, 57, 57, 57], 4788, 26, 0.015310187, 98)\n",
    "(16, 0.004, 'offset', [57, 57, 57, 57], 4788, 26, 0.01529764, 66)\n",
    "(16, 0.002, 'offset', [57, 57, 57, 57], 4788, 26, 0.017894622, 195)\n",
    "(16, 0.002, 'offset', [57, 57, 57, 57], 4788, 26, 0.01718206, 160)\n",
    "(16, 0.002, 'offset', [57, 57, 57, 57], 4788, 26, 0.019261345, 122)"
   ]
  },
  {
   "cell_type": "code",
   "execution_count": 21,
   "metadata": {},
   "outputs": [
    {
     "data": {
      "text/plain": [
       "'checkpoints/predict16_394'"
      ]
     },
     "execution_count": 21,
     "metadata": {},
     "output_type": "execute_result"
    }
   ],
   "source": [
    "saver = tf.train.Saver()\n",
    "saver.save(currentSession, 'checkpoints/predict{0}_{1}'.format(batch_size, epoch))"
   ]
  },
  {
   "cell_type": "markdown",
   "metadata": {},
   "source": [
    "We're now going to save the batching network and create a different network with batch size 1 and 1 training step which we can use for making predictions from a stream"
   ]
  },
  {
   "cell_type": "code",
   "execution_count": 22,
   "metadata": {
    "collapsed": true
   },
   "outputs": [],
   "source": [
    "p_batch = 1\n",
    "    \n",
    "p_loss, p_cost, p_logits, p_save_dict = sq_net.sequence_layer(1, p_batch, input_size, output_size, \\\n",
    "                       input_count, layer_count, hidden_size, cell, cell_kernel, beta, False, True)\n",
    "\n",
    "p_inputs = p_save_dict['inputs']"
   ]
  },
  {
   "cell_type": "code",
   "execution_count": 23,
   "metadata": {},
   "outputs": [
    {
     "name": "stdout",
     "output_type": "stream",
     "text": [
      "INFO:tensorflow:Restoring parameters from checkpoints/predict16_394\n"
     ]
    }
   ],
   "source": [
    "sess = tf.Session()  \n",
    "sess.run(tf.global_variables_initializer())\n",
    "saver = tf.train.Saver()\n",
    "saver.restore(sess, 'checkpoints/predict{0}_{1}'.format(batch_size, epoch))"
   ]
  },
  {
   "cell_type": "code",
   "execution_count": 24,
   "metadata": {},
   "outputs": [
    {
     "data": {
      "text/plain": [
       "u'input_0_1:0'"
      ]
     },
     "execution_count": 24,
     "metadata": {},
     "output_type": "execute_result"
    }
   ],
   "source": [
    "p_inputs[0].name"
   ]
  },
  {
   "cell_type": "code",
   "execution_count": 25,
   "metadata": {},
   "outputs": [
    {
     "data": {
      "text/plain": [
       "[<tf.Tensor 'input_0_1:0' shape=(1, 1, 35) dtype=float32>,\n",
       " <tf.Tensor 'input_1_1:0' shape=(1, 1, 35) dtype=float32>,\n",
       " <tf.Tensor 'input_2_1:0' shape=(1, 1, 35) dtype=float32>,\n",
       " <tf.Tensor 'input_3_1:0' shape=(1, 1, 35) dtype=float32>]"
      ]
     },
     "execution_count": 25,
     "metadata": {},
     "output_type": "execute_result"
    }
   ],
   "source": [
    "p_inputs"
   ]
  },
  {
   "cell_type": "markdown",
   "metadata": {},
   "source": [
    "Choose test_offset for in training or out of training predictions"
   ]
  },
  {
   "cell_type": "code",
   "execution_count": 28,
   "metadata": {},
   "outputs": [
    {
     "name": "stdout",
     "output_type": "stream",
     "text": [
      "(0,)\n"
     ]
    }
   ],
   "source": [
    "test_offset = [51] \n",
    "\n",
    "offset, input_data, targets = feed_data(test_offset, 420)\n",
    "\n",
    "predictions = []\n",
    "targets_o = []\n",
    "\n",
    "print(np.shape(targets_o))\n",
    "\n",
    "state = None\n",
    "\n",
    "for i in range(400):\n",
    "    feed_dict={}\n",
    "    \n",
    "    for idx in range(input_count):\n",
    "        new_data = np.reshape(input_data[idx][0][i], (1,1,35))\n",
    "        feed_dict.update({p_inputs[idx].name: new_data})\n",
    "\n",
    "    if state is not None:\n",
    "        for idx in range(input_count):\n",
    "            feed_dict.update({p_save_dict['inital_state'][idx]: state[idx]})\n",
    "        \n",
    "    run_logits, state = sess.run([p_logits, p_save_dict['final_state']], feed_dict)\n",
    "    predictions.append(run_logits[0][0][output_size-1])\n",
    "    targets_o.append(targets[0][i][output_size-1])"
   ]
  },
  {
   "cell_type": "code",
   "execution_count": 27,
   "metadata": {},
   "outputs": [
    {
     "data": {
      "image/png": "[encoded data removed]",
      "text/plain": [
       "<matplotlib.figure.Figure at 0x7f0ab8143d90>"
      ]
     },
     "metadata": {},
     "output_type": "display_data"
    }
   ],
   "source": [
    "plt.plot(predictions, 'r')\n",
    "plt.plot(targets_o, 'b')\n",
    "plt.axis([0.0,420,0.0,1.02])\n",
    "plt.show()"
   ]
  },
  {
   "cell_type": "code",
   "execution_count": null,
   "metadata": {
    "collapsed": true
   },
   "outputs": [],
   "source": []
  }
 ],
 "metadata": {
  "kernelspec": {
   "display_name": "Python 2",
   "language": "python",
   "name": "python2"
  },
  "language_info": {
   "codemirror_mode": {
    "name": "ipython",
    "version": 2
   },
   "file_extension": ".py",
   "mimetype": "text/x-python",
   "name": "python",
   "nbconvert_exporter": "python",
   "pygments_lexer": "ipython2",
   "version": "2.7.12"
  }
 },
 "nbformat": 4,
 "nbformat_minor": 2
}
