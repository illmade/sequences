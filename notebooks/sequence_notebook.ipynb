{
 "cells": [
  {
   "cell_type": "code",
   "execution_count": 1,
   "metadata": {
    "collapsed": true
   },
   "outputs": [],
   "source": [
    "import tensorflow as tf\n",
    "import numpy as np\n",
    "import sys\n",
    "import os\n",
    "import matplotlib.pyplot as plt\n",
    "\n",
    "sys.path.append(os.path.abspath(\"/notebooks\"))\n",
    "import sq_net"
   ]
  },
  {
   "cell_type": "markdown",
   "metadata": {},
   "source": [
    "Our lstm cells have an internal size - hidden size\n",
    "And a size that matches the input    - input size\n",
    "\n",
    "We can change the cell() defintion to try out other cell types"
   ]
  },
  {
   "cell_type": "code",
   "execution_count": 2,
   "metadata": {
    "collapsed": true
   },
   "outputs": [],
   "source": [
    "hidden_size = 16\n",
    "input_size = 35\n",
    "output_size = 26\n",
    "layer_count = 3\n",
    "train_steps = 120\n",
    "batch_size = 4\n",
    "input_count = 4\n",
    "\n",
    "#beta is the regularization\n",
    "beta_val = 0.002\n",
    "beta = tf.Variable(beta_val, trainable=False)\n",
    "train_length = train_steps - input_size - 1\n",
    "\n",
    "cell_name = \"gru_cell\"\n",
    "cell_kernel = \"{0}/gates\".format(cell_name)\n",
    "\n",
    "global_dropout = tf.Variable(0.9, trainable=False)\n",
    "\n",
    "# gru_cell/gates, basic_lstm_cell\n",
    "def cell():\n",
    "    lcell = tf.nn.rnn_cell.GRUCell(hidden_size)\n",
    "    return tf.nn.rnn_cell.DropoutWrapper(lcell, input_keep_prob=global_dropout)"
   ]
  },
  {
   "cell_type": "markdown",
   "metadata": {},
   "source": [
    "Set up the network and a trainer"
   ]
  },
  {
   "cell_type": "code",
   "execution_count": 3,
   "metadata": {
    "collapsed": true
   },
   "outputs": [],
   "source": [
    "loss, cost, logits, save_dict = sq_net.sequence_layer(train_steps, batch_size, input_size, output_size, \\\n",
    "                        input_count, layer_count, hidden_size, cell, cell_kernel, beta, global_dropout, None)\n",
    "\n",
    "inputs = save_dict['inputs']"
   ]
  },
  {
   "cell_type": "code",
   "execution_count": 4,
   "metadata": {
    "collapsed": true
   },
   "outputs": [],
   "source": [
    "train_op, grads = sq_net.adam_train(cost)"
   ]
  },
  {
   "cell_type": "markdown",
   "metadata": {},
   "source": [
    "Import the AirQuality data from the csv file"
   ]
  },
  {
   "cell_type": "code",
   "execution_count": 5,
   "metadata": {
    "collapsed": true
   },
   "outputs": [],
   "source": [
    "filename_queue = tf.train.string_input_producer([\"data/AirQualityUCI.csv\"])\n",
    "\n",
    "reader = tf.TextLineReader(1)\n",
    "key, value = reader.read_up_to(filename_queue, 8000)"
   ]
  },
  {
   "cell_type": "code",
   "execution_count": 6,
   "metadata": {
    "collapsed": true
   },
   "outputs": [],
   "source": [
    "# Date1;Time2;3CO(GT);4PT08.S1(CO);5NMHC(GT);6C6H6(GT);7PT08.S2(NMHC);8NOx(GT);9PT08.S3(NOx);10NO2(GT);11PT08.S4(NO2);12PT08.S5(O3);12T;14RH;15AH;;\n",
    "record_defaults = [[\"0\"],[\"0\"],[\"0\"],[\"0\"],[\"0\"],[\"0\"],[\"0\"],[\"0\"],[\"0\"],[\"0\"],[\"0\"],[\"0\"],[\"0\"],[\"0\"],[\"0\"],[\"0\"],[\"0\"]]\n",
    "\n",
    "cols = tf.decode_csv(value, record_defaults=record_defaults, field_delim=\";\")\n",
    "\n",
    "ptco = tf.string_to_number(cols[3])\n",
    "ptco_max = tf.reduce_max(ptco)\n",
    "ptco_norm = ptco / ptco_max\n",
    "\n",
    "nmhc = tf.string_to_number(cols[4])\n",
    "nmhc_max = tf.reduce_max(nmhc)\n",
    "nmhc_norm = nmhc / nmhc_max\n",
    "\n",
    "# c6h6 = cols[5]\n",
    "\n",
    "pts2 = tf.string_to_number(cols[6])\n",
    "pts2_max = tf.reduce_max(pts2)\n",
    "pts2_norm = pts2 / pts2_max\n",
    "\n",
    "nox = tf.string_to_number(cols[7])\n",
    "nox_max = tf.reduce_max(nox)\n",
    "nox_norm = nox / nox_max\n",
    "\n",
    "no2 = tf.string_to_number(cols[9])\n",
    "no2_max = tf.reduce_max(no2)\n",
    "no2_norm = no2 / no2_max\n",
    "\n",
    "o3 = tf.string_to_number(cols[11])\n",
    "o3_max = tf.reduce_max(o3)\n",
    "o3_norm = o3 / o3_max"
   ]
  },
  {
   "cell_type": "markdown",
   "metadata": {},
   "source": [
    "Read the data using a queue runner"
   ]
  },
  {
   "cell_type": "code",
   "execution_count": 7,
   "metadata": {
    "collapsed": true
   },
   "outputs": [],
   "source": [
    "with tf.Session() as sess:\n",
    "    coord = tf.train.Coordinator()\n",
    "    threads = tf.train.start_queue_runners(coord=coord)\n",
    "\n",
    "    full_data, ptco_norm_data, pts2_norm_data, nmhc_norm_data, \\\n",
    "        nox_data, nox_norm_data, no2_data, no2_norm_data, o3_data, o3_norm_data = \\\n",
    "        sess.run([cols, ptco_norm, pts2_norm, nmhc_norm, nox, nox_norm, no2, no2_norm, o3, o3_norm])\n",
    "        \n",
    "    coord.request_stop()\n",
    "    coord.join(threads)"
   ]
  },
  {
   "cell_type": "markdown",
   "metadata": {},
   "source": [
    "We can choose different gases to train with and target"
   ]
  },
  {
   "cell_type": "code",
   "execution_count": 8,
   "metadata": {},
   "outputs": [],
   "source": [
    "training_set_a = pts2_norm_data[:8000]\n",
    "training_set_b = ptco_norm_data[:8000]\n",
    "training_set_c = nox_norm_data[:8000]\n",
    "training_set_d = no2_norm_data[:8000]\n",
    "\n",
    "target_set = o3_norm_data[:8000]"
   ]
  },
  {
   "cell_type": "markdown",
   "metadata": {},
   "source": [
    "Lets look at some of the data"
   ]
  },
  {
   "cell_type": "code",
   "execution_count": 9,
   "metadata": {},
   "outputs": [
    {
     "data": {
      "image/png": "[encoded data removed]",
      "text/plain": [
       "<matplotlib.figure.Figure at 0x7fd45727f310>"
      ]
     },
     "metadata": {},
     "output_type": "display_data"
    }
   ],
   "source": [
    "plt.plot(target_set, 'b')\n",
    "plt.plot(training_set_d, 'r')\n",
    "plt.show()"
   ]
  },
  {
   "cell_type": "markdown",
   "metadata": {},
   "source": [
    "Grab a bunch of data for training/testing"
   ]
  },
  {
   "cell_type": "code",
   "execution_count": 40,
   "metadata": {
    "collapsed": true
   },
   "outputs": [],
   "source": [
    "def feed_data(iterations, steps):\n",
    "    \n",
    "    data_out = []\n",
    "    for dataset in data_in:\n",
    "        data_out.append([])\n",
    "    \n",
    "    targets = []\n",
    "    \n",
    "    for iteration in iterations:\n",
    "        data_t = []\n",
    "        \n",
    "        d_out = []\n",
    "        for dataset in data_out:\n",
    "            d_out.append([])\n",
    "        \n",
    "        offset = iteration * train_length\n",
    "\n",
    "        for i in range(steps):\n",
    "            for idx, dataset in enumerate(data_in):\n",
    "                data = d_out[idx]\n",
    "                input_seq = dataset[offset + i : offset + i + input_size]\n",
    "                data.append(input_seq)\n",
    "\n",
    "            target_seq = target_set[offset + i + input_size : offset + i + input_size + output_size]\n",
    "            data_t.append(target_seq)\n",
    "            \n",
    "        for idx, dataset in enumerate(data_out):\n",
    "            dataset.append(d_out[idx])\n",
    "            \n",
    "        targets.append(data_t)\n",
    "\n",
    "    return (offset, data_out, targets)"
   ]
  },
  {
   "cell_type": "code",
   "execution_count": 41,
   "metadata": {},
   "outputs": [],
   "source": [
    "data_in = [training_set_a, training_set_b, training_set_c, training_set_d]"
   ]
  },
  {
   "cell_type": "markdown",
   "metadata": {},
   "source": [
    "Set a few things up for the session"
   ]
  },
  {
   "cell_type": "code",
   "execution_count": 12,
   "metadata": {
    "collapsed": true
   },
   "outputs": [],
   "source": [
    "from random import sample\n",
    "\n",
    "train_range = range(50)\n",
    "total_cost = 0\n",
    "last_loss = 0\n",
    "\n",
    "currentSession = tf.Session()\n",
    "\n",
    "tf.global_variables_initializer().run(session = currentSession)\n",
    "\n",
    "starting_epoch = 0"
   ]
  },
  {
   "cell_type": "markdown",
   "metadata": {},
   "source": [
    "Play with different learning rates"
   ]
  },
  {
   "cell_type": "code",
   "execution_count": 13,
   "metadata": {
    "collapsed": true
   },
   "outputs": [],
   "source": [
    "def learning_schedule(epoch):\n",
    "    flr = 0.001\n",
    "    if (epoch > 180):\n",
    "        flr = 0.0008\n",
    "    if (epoch > 360):\n",
    "        flr = 0.0006\n",
    "    if (epoch > 600):\n",
    "        flr = 0.0002\n",
    "    if (epoch > 1500):\n",
    "        flr = 0.00002\n",
    "    return flr"
   ]
  },
  {
   "cell_type": "markdown",
   "metadata": {},
   "source": [
    "Start training - choose a dropout rate"
   ]
  },
  {
   "cell_type": "code",
   "execution_count": 44,
   "metadata": {},
   "outputs": [
    {
     "name": "stdout",
     "output_type": "stream",
     "text": [
      "(16, 4, 0.002, 0.62477875966578722, 60, 20.713896847795695, 0.001, 0.012495575193315744, 0.0098448806)\n",
      "(16, 4, 0.002, 0.58410555496811867, 90, 17.905203897040337, 0.001, 0.011682111099362373, 0.01568521)\n",
      "(16, 4, 0.002, 0.56589386938139796, 120, 16.897391849197447, 0.001, 0.01131787738762796, 0.014120868)\n"
     ]
    },
    {
     "ename": "KeyboardInterrupt",
     "evalue": "",
     "output_type": "error",
     "traceback": [
      "\u001b[0;31m---------------------------------------------------------------------------\u001b[0m",
      "\u001b[0;31mKeyboardInterrupt\u001b[0m                         Traceback (most recent call last)",
      "\u001b[0;32m<ipython-input-44-24936939a549>\u001b[0m in \u001b[0;36m<module>\u001b[0;34m()\u001b[0m\n\u001b[1;32m     27\u001b[0m             \u001b[0mfeed\u001b[0m\u001b[0;34m.\u001b[0m\u001b[0mupdate\u001b[0m\u001b[0;34m(\u001b[0m\u001b[0;34m{\u001b[0m\u001b[0minputs\u001b[0m\u001b[0;34m[\u001b[0m\u001b[0midx\u001b[0m\u001b[0;34m]\u001b[0m\u001b[0;34m.\u001b[0m\u001b[0mname\u001b[0m\u001b[0;34m:\u001b[0m \u001b[0mdata_out\u001b[0m\u001b[0;34m[\u001b[0m\u001b[0midx\u001b[0m\u001b[0;34m]\u001b[0m\u001b[0;34m}\u001b[0m\u001b[0;34m)\u001b[0m\u001b[0;34m\u001b[0m\u001b[0m\n\u001b[1;32m     28\u001b[0m \u001b[0;34m\u001b[0m\u001b[0m\n\u001b[0;32m---> 29\u001b[0;31m         \u001b[0mpartial_loss\u001b[0m\u001b[0;34m,\u001b[0m \u001b[0mtrain\u001b[0m\u001b[0;34m,\u001b[0m \u001b[0mfstate\u001b[0m \u001b[0;34m=\u001b[0m \u001b[0mcurrentSession\u001b[0m\u001b[0;34m.\u001b[0m\u001b[0mrun\u001b[0m\u001b[0;34m(\u001b[0m\u001b[0;34m[\u001b[0m\u001b[0mloss\u001b[0m\u001b[0;34m,\u001b[0m \u001b[0mtrain_op\u001b[0m\u001b[0;34m,\u001b[0m \u001b[0msave_dict\u001b[0m\u001b[0;34m[\u001b[0m\u001b[0;34m'final_state'\u001b[0m\u001b[0;34m]\u001b[0m\u001b[0;34m]\u001b[0m\u001b[0;34m,\u001b[0m \u001b[0mfeed_dict\u001b[0m\u001b[0;34m=\u001b[0m\u001b[0mfeed\u001b[0m\u001b[0;34m)\u001b[0m\u001b[0;34m\u001b[0m\u001b[0m\n\u001b[0m\u001b[1;32m     30\u001b[0m         \u001b[0;31m#allow a little time for initial variation to die down\u001b[0m\u001b[0;34m\u001b[0m\u001b[0;34m\u001b[0m\u001b[0m\n\u001b[1;32m     31\u001b[0m         \u001b[0;32mif\u001b[0m \u001b[0mepoch\u001b[0m \u001b[0;34m>\u001b[0m \u001b[0;36m0\u001b[0m\u001b[0;34m:\u001b[0m\u001b[0;34m\u001b[0m\u001b[0m\n",
      "\u001b[0;32m/usr/local/lib/python2.7/dist-packages/tensorflow/python/client/session.pyc\u001b[0m in \u001b[0;36mrun\u001b[0;34m(self, fetches, feed_dict, options, run_metadata)\u001b[0m\n\u001b[1;32m    787\u001b[0m     \u001b[0;32mtry\u001b[0m\u001b[0;34m:\u001b[0m\u001b[0;34m\u001b[0m\u001b[0m\n\u001b[1;32m    788\u001b[0m       result = self._run(None, fetches, feed_dict, options_ptr,\n\u001b[0;32m--> 789\u001b[0;31m                          run_metadata_ptr)\n\u001b[0m\u001b[1;32m    790\u001b[0m       \u001b[0;32mif\u001b[0m \u001b[0mrun_metadata\u001b[0m\u001b[0;34m:\u001b[0m\u001b[0;34m\u001b[0m\u001b[0m\n\u001b[1;32m    791\u001b[0m         \u001b[0mproto_data\u001b[0m \u001b[0;34m=\u001b[0m \u001b[0mtf_session\u001b[0m\u001b[0;34m.\u001b[0m\u001b[0mTF_GetBuffer\u001b[0m\u001b[0;34m(\u001b[0m\u001b[0mrun_metadata_ptr\u001b[0m\u001b[0;34m)\u001b[0m\u001b[0;34m\u001b[0m\u001b[0m\n",
      "\u001b[0;32m/usr/local/lib/python2.7/dist-packages/tensorflow/python/client/session.pyc\u001b[0m in \u001b[0;36m_run\u001b[0;34m(self, handle, fetches, feed_dict, options, run_metadata)\u001b[0m\n\u001b[1;32m    995\u001b[0m     \u001b[0;32mif\u001b[0m \u001b[0mfinal_fetches\u001b[0m \u001b[0;32mor\u001b[0m \u001b[0mfinal_targets\u001b[0m\u001b[0;34m:\u001b[0m\u001b[0;34m\u001b[0m\u001b[0m\n\u001b[1;32m    996\u001b[0m       results = self._do_run(handle, final_targets, final_fetches,\n\u001b[0;32m--> 997\u001b[0;31m                              feed_dict_string, options, run_metadata)\n\u001b[0m\u001b[1;32m    998\u001b[0m     \u001b[0;32melse\u001b[0m\u001b[0;34m:\u001b[0m\u001b[0;34m\u001b[0m\u001b[0m\n\u001b[1;32m    999\u001b[0m       \u001b[0mresults\u001b[0m \u001b[0;34m=\u001b[0m \u001b[0;34m[\u001b[0m\u001b[0;34m]\u001b[0m\u001b[0;34m\u001b[0m\u001b[0m\n",
      "\u001b[0;32m/usr/local/lib/python2.7/dist-packages/tensorflow/python/client/session.pyc\u001b[0m in \u001b[0;36m_do_run\u001b[0;34m(self, handle, target_list, fetch_list, feed_dict, options, run_metadata)\u001b[0m\n\u001b[1;32m   1130\u001b[0m     \u001b[0;32mif\u001b[0m \u001b[0mhandle\u001b[0m \u001b[0;32mis\u001b[0m \u001b[0mNone\u001b[0m\u001b[0;34m:\u001b[0m\u001b[0;34m\u001b[0m\u001b[0m\n\u001b[1;32m   1131\u001b[0m       return self._do_call(_run_fn, self._session, feed_dict, fetch_list,\n\u001b[0;32m-> 1132\u001b[0;31m                            target_list, options, run_metadata)\n\u001b[0m\u001b[1;32m   1133\u001b[0m     \u001b[0;32melse\u001b[0m\u001b[0;34m:\u001b[0m\u001b[0;34m\u001b[0m\u001b[0m\n\u001b[1;32m   1134\u001b[0m       return self._do_call(_prun_fn, self._session, handle, feed_dict,\n",
      "\u001b[0;32m/usr/local/lib/python2.7/dist-packages/tensorflow/python/client/session.pyc\u001b[0m in \u001b[0;36m_do_call\u001b[0;34m(self, fn, *args)\u001b[0m\n\u001b[1;32m   1137\u001b[0m   \u001b[0;32mdef\u001b[0m \u001b[0m_do_call\u001b[0m\u001b[0;34m(\u001b[0m\u001b[0mself\u001b[0m\u001b[0;34m,\u001b[0m \u001b[0mfn\u001b[0m\u001b[0;34m,\u001b[0m \u001b[0;34m*\u001b[0m\u001b[0margs\u001b[0m\u001b[0;34m)\u001b[0m\u001b[0;34m:\u001b[0m\u001b[0;34m\u001b[0m\u001b[0m\n\u001b[1;32m   1138\u001b[0m     \u001b[0;32mtry\u001b[0m\u001b[0;34m:\u001b[0m\u001b[0;34m\u001b[0m\u001b[0m\n\u001b[0;32m-> 1139\u001b[0;31m       \u001b[0;32mreturn\u001b[0m \u001b[0mfn\u001b[0m\u001b[0;34m(\u001b[0m\u001b[0;34m*\u001b[0m\u001b[0margs\u001b[0m\u001b[0;34m)\u001b[0m\u001b[0;34m\u001b[0m\u001b[0m\n\u001b[0m\u001b[1;32m   1140\u001b[0m     \u001b[0;32mexcept\u001b[0m \u001b[0merrors\u001b[0m\u001b[0;34m.\u001b[0m\u001b[0mOpError\u001b[0m \u001b[0;32mas\u001b[0m \u001b[0me\u001b[0m\u001b[0;34m:\u001b[0m\u001b[0;34m\u001b[0m\u001b[0m\n\u001b[1;32m   1141\u001b[0m       \u001b[0mmessage\u001b[0m \u001b[0;34m=\u001b[0m \u001b[0mcompat\u001b[0m\u001b[0;34m.\u001b[0m\u001b[0mas_text\u001b[0m\u001b[0;34m(\u001b[0m\u001b[0me\u001b[0m\u001b[0;34m.\u001b[0m\u001b[0mmessage\u001b[0m\u001b[0;34m)\u001b[0m\u001b[0;34m\u001b[0m\u001b[0m\n",
      "\u001b[0;32m/usr/local/lib/python2.7/dist-packages/tensorflow/python/client/session.pyc\u001b[0m in \u001b[0;36m_run_fn\u001b[0;34m(session, feed_dict, fetch_list, target_list, options, run_metadata)\u001b[0m\n\u001b[1;32m   1119\u001b[0m         return tf_session.TF_Run(session, options,\n\u001b[1;32m   1120\u001b[0m                                  \u001b[0mfeed_dict\u001b[0m\u001b[0;34m,\u001b[0m \u001b[0mfetch_list\u001b[0m\u001b[0;34m,\u001b[0m \u001b[0mtarget_list\u001b[0m\u001b[0;34m,\u001b[0m\u001b[0;34m\u001b[0m\u001b[0m\n\u001b[0;32m-> 1121\u001b[0;31m                                  status, run_metadata)\n\u001b[0m\u001b[1;32m   1122\u001b[0m \u001b[0;34m\u001b[0m\u001b[0m\n\u001b[1;32m   1123\u001b[0m     \u001b[0;32mdef\u001b[0m \u001b[0m_prun_fn\u001b[0m\u001b[0;34m(\u001b[0m\u001b[0msession\u001b[0m\u001b[0;34m,\u001b[0m \u001b[0mhandle\u001b[0m\u001b[0;34m,\u001b[0m \u001b[0mfeed_dict\u001b[0m\u001b[0;34m,\u001b[0m \u001b[0mfetch_list\u001b[0m\u001b[0;34m)\u001b[0m\u001b[0;34m:\u001b[0m\u001b[0;34m\u001b[0m\u001b[0m\n",
      "\u001b[0;31mKeyboardInterrupt\u001b[0m: "
     ]
    }
   ],
   "source": [
    "dropit = tf.assign(global_dropout, 0.9)\n",
    "\n",
    "drop = currentSession.run(dropit)\n",
    "\n",
    "for epoch in range(starting_epoch, 390):\n",
    "    starting_epoch = epoch\n",
    "    \n",
    "    iterations = []\n",
    "    \n",
    "    train_ranges = [] \n",
    "    \n",
    "    epoch_loss = 0\n",
    "    \n",
    "    for i in range(batch_size):\n",
    "        train_ranges.append(sample(train_range, 50))\n",
    "        \n",
    "    batch_offsets = np.reshape(train_ranges, (-1, batch_size))\n",
    "    \n",
    "    for offsets in batch_offsets:\n",
    "        offset, data_out, targets = feed_data(offsets, train_steps)\n",
    "        \n",
    "        flr = learning_schedule(epoch)\n",
    "        \n",
    "        feed = {'targets:0': targets, 'new_learning_rate:0': flr}\n",
    "        \n",
    "        for idx in range(input_count):\n",
    "            feed.update({inputs[idx].name: data_out[idx]})\n",
    "        \n",
    "        partial_loss, train, fstate = currentSession.run([loss, train_op, save_dict['final_state']], feed_dict=feed)\n",
    "        #allow a little time for initial variation to die down\n",
    "        if epoch > 0:\n",
    "            epoch_loss = epoch_loss + partial_loss\n",
    "        \n",
    "    total_cost = epoch_loss + total_cost\n",
    "    if epoch % 30 == 0:\n",
    "        running_loss = total_cost - last_loss\n",
    "        last_loss = total_cost\n",
    "        av_loss = epoch_loss / 50\n",
    "        print(hidden_size, batch_size, beta_val, epoch_loss, epoch, running_loss, flr, av_loss, partial_loss)"
   ]
  },
  {
   "cell_type": "markdown",
   "metadata": {},
   "source": [
    "It's simple to train and restart"
   ]
  },
  {
   "cell_type": "code",
   "execution_count": null,
   "metadata": {},
   "outputs": [],
   "source": [
    "saver = tf.train.Saver()\n",
    "saver.save(currentSession, 'checkpoints/{0}_{1}'.format(cell_name, epoch))"
   ]
  },
  {
   "cell_type": "markdown",
   "metadata": {},
   "source": [
    "Without having to create a new network we can take a look at how things are going"
   ]
  },
  {
   "cell_type": "code",
   "execution_count": 45,
   "metadata": {},
   "outputs": [
    {
     "name": "stdout",
     "output_type": "stream",
     "text": [
      "(4, 4, 120, 35)\n",
      "(16, 0.002, 'offset', [27, 27, 27, 27], 2268, 26, 0.014520523, 122)\n"
     ]
    }
   ],
   "source": [
    "no_drop = tf.assign(global_dropout, 1.0)\n",
    "\n",
    "drop = currentSession.run(no_drop)\n",
    "\n",
    "test_offset = [] \n",
    "#The network still wants batches at the moment\n",
    "for i in range(batch_size):\n",
    "    test_offset.append(27)\n",
    "\n",
    "offset, data_out, targets = feed_data(test_offset, train_steps)\n",
    "\n",
    "print(np.shape(data_out))\n",
    "\n",
    "feed_dict={'targets:0': targets}\n",
    "for idx in range(input_count):\n",
    "    feed_dict.update({inputs[idx].name: data_out[idx]})\n",
    "\n",
    "test_logits, current_loss, fstate = currentSession.run([logits, loss, save_dict['final_state']], feed_dict)\n",
    "\n",
    "distance = 25\n",
    "#predictions at different distances from the input\n",
    "far_away = test_logits[0][:,distance]\n",
    "mid = test_logits[0][:,7]\n",
    "close = test_logits[0][:,1]\n",
    "print(hidden_size, beta_val, \"offset\", test_offset, offset, output_size, current_loss, epoch)\n",
    "\n",
    "test_size = input_size + distance\n",
    "offset, data_out, targets = feed_data(test_offset, train_steps)\n",
    "ts = np.stack(targets[0])\n",
    "ts = np.array(targets[0])[:,0]"
   ]
  },
  {
   "cell_type": "markdown",
   "metadata": {},
   "source": [
    "We can plot the predictions at different prediction points"
   ]
  },
  {
   "cell_type": "code",
   "execution_count": 46,
   "metadata": {},
   "outputs": [
    {
     "data": {
      "image/png": "[encoded data removed]",
      "text/plain": [
       "<matplotlib.figure.Figure at 0x7fd454c3e750>"
      ]
     },
     "metadata": {},
     "output_type": "display_data"
    }
   ],
   "source": [
    "import matplotlib.pyplot as plt\n",
    "plt.plot(far_away, 'r')\n",
    "# plt.plot(mid[18:], 'y')\n",
    "# plt.plot(close[25:], 'g')\n",
    "plt.plot(ts, 'b')\n",
    "plt.axis([0.0,train_steps,0.0,1.02])\n",
    "plt.show()"
   ]
  },
  {
   "cell_type": "markdown",
   "metadata": {},
   "source": [
    "We're now going to save the batching network and create a different network with batch size 1 and 1 training step which we can use for making predictions from a stream"
   ]
  },
  {
   "cell_type": "code",
   "execution_count": 47,
   "metadata": {},
   "outputs": [
    {
     "data": {
      "text/plain": [
       "'checkpoints/predict4_122'"
      ]
     },
     "execution_count": 47,
     "metadata": {},
     "output_type": "execute_result"
    }
   ],
   "source": [
    "saver = tf.train.Saver()\n",
    "saver.save(currentSession, 'checkpoints/predict{0}_{1}'.format(batch_size, epoch))"
   ]
  },
  {
   "cell_type": "code",
   "execution_count": 48,
   "metadata": {
    "collapsed": true
   },
   "outputs": [],
   "source": [
    "p_batch = 1\n",
    "    \n",
    "p_loss, p_cost, p_logits, p_save_dict = sq_net.sequence_layer(1, p_batch, input_size, output_size, \\\n",
    "                       input_count, layer_count, hidden_size, cell, cell_kernel, beta, False, True)\n",
    "\n",
    "p_inputs = p_save_dict['inputs']"
   ]
  },
  {
   "cell_type": "code",
   "execution_count": 49,
   "metadata": {},
   "outputs": [
    {
     "name": "stdout",
     "output_type": "stream",
     "text": [
      "INFO:tensorflow:Restoring parameters from checkpoints/predict4_122\n"
     ]
    }
   ],
   "source": [
    "sess = tf.Session()  \n",
    "sess.run(tf.global_variables_initializer())\n",
    "saver = tf.train.Saver()\n",
    "saver.restore(sess, 'checkpoints/predict{0}_{1}'.format(batch_size, epoch))"
   ]
  },
  {
   "cell_type": "markdown",
   "metadata": {},
   "source": [
    "Choose test_offset for in training or out of training predictions"
   ]
  },
  {
   "cell_type": "code",
   "execution_count": 50,
   "metadata": {},
   "outputs": [],
   "source": [
    "test_offset = [46] \n",
    "\n",
    "offset, input_data, targets = feed_data(test_offset, 420)\n",
    "\n",
    "predictions = []\n",
    "targets_o = []\n",
    "\n",
    "state = None\n",
    "\n",
    "for i in range(400):\n",
    "    feed_dict={}\n",
    "    \n",
    "    for idx in range(input_count):\n",
    "        new_data = np.reshape(input_data[idx][0][i], (1,1,35))\n",
    "        feed_dict.update({p_inputs[idx].name: new_data})\n",
    "\n",
    "    if state is not None:\n",
    "        for idx in range(input_count):\n",
    "            feed_dict.update({p_save_dict['inital_state'][idx]: state[idx]})\n",
    "        \n",
    "    run_logits, state = sess.run([p_logits, p_save_dict['final_state']], feed_dict)\n",
    "    predictions.append(run_logits[0][0][output_size-1])\n",
    "    targets_o.append(targets[0][i][output_size-1])"
   ]
  },
  {
   "cell_type": "code",
   "execution_count": 51,
   "metadata": {},
   "outputs": [
    {
     "data": {
      "image/png": "[encoded data removed]",
      "text/plain": [
       "<matplotlib.figure.Figure at 0x7fd43c7eab90>"
      ]
     },
     "metadata": {},
     "output_type": "display_data"
    }
   ],
   "source": [
    "plt.plot(predictions, 'r')\n",
    "plt.plot(targets_o, 'b')\n",
    "plt.axis([100.0,420,0.0,1.02])\n",
    "plt.show()"
   ]
  },
  {
   "cell_type": "code",
   "execution_count": null,
   "metadata": {
    "collapsed": true
   },
   "outputs": [],
   "source": []
  }
 ],
 "metadata": {
  "kernelspec": {
   "display_name": "Python 2",
   "language": "python",
   "name": "python2"
  },
  "language_info": {
   "codemirror_mode": {
    "name": "ipython",
    "version": 2
   },
   "file_extension": ".py",
   "mimetype": "text/x-python",
   "name": "python",
   "nbconvert_exporter": "python",
   "pygments_lexer": "ipython2",
   "version": "2.7.12"
  }
 },
 "nbformat": 4,
 "nbformat_minor": 2
}
