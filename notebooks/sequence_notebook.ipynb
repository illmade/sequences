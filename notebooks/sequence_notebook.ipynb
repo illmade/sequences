{
 "cells": [
  {
   "cell_type": "code",
   "execution_count": 1,
   "metadata": {
    "collapsed": true
   },
   "outputs": [],
   "source": [
    "import tensorflow as tf\n",
    "import numpy as np\n",
    "import sys\n",
    "import os\n",
    "import matplotlib.pyplot as plt\n",
    "\n",
    "sys.path.append(os.path.abspath(\"/notebooks\"))\n",
    "import sq_net"
   ]
  },
  {
   "cell_type": "markdown",
   "metadata": {},
   "source": [
    "Our lstm cells have an internal size - hidden size\n",
    "And a size that matches the input    - input size\n",
    "\n",
    "We can change the cell() defintion to try out other cell types"
   ]
  },
  {
   "cell_type": "code",
   "execution_count": 2,
   "metadata": {
    "collapsed": true
   },
   "outputs": [],
   "source": [
    "hidden_size = 22\n",
    "input_size = 35\n",
    "output_size = 26\n",
    "layer_count = 3\n",
    "train_steps = 120\n",
    "batch_size = 4\n",
    "input_count = 3\n",
    "\n",
    "#beta is the regularization\n",
    "beta_val = 0.002\n",
    "beta = tf.Variable(beta_val, trainable=False)\n",
    "train_length = train_steps - input_size - 1\n",
    "\n",
    "cell_name = \"gru_cell\"\n",
    "cell_kernel = \"{0}/gates\".format(cell_name)\n",
    "\n",
    "global_dropout = tf.Variable(0.9, trainable=False)\n",
    "\n",
    "# gru_cell/gates, basic_lstm_cell\n",
    "def cell():\n",
    "    lcell = tf.nn.rnn_cell.GRUCell(hidden_size)\n",
    "    return tf.nn.rnn_cell.DropoutWrapper(lcell, input_keep_prob=global_dropout)"
   ]
  },
  {
   "cell_type": "markdown",
   "metadata": {},
   "source": [
    "Set up the network and a trainer"
   ]
  },
  {
   "cell_type": "code",
   "execution_count": 3,
   "metadata": {
    "collapsed": true
   },
   "outputs": [],
   "source": [
    "loss, cost, logits, save_dict = sq_net.sequence_layer(train_steps, batch_size, input_size, output_size, \\\n",
    "                        input_count, layer_count, hidden_size, cell, cell_kernel, beta, global_dropout, None)\n",
    "\n",
    "inputs = save_dict['inputs']"
   ]
  },
  {
   "cell_type": "code",
   "execution_count": 4,
   "metadata": {
    "collapsed": true
   },
   "outputs": [],
   "source": [
    "train_op, grads = sq_net.adam_train(cost)"
   ]
  },
  {
   "cell_type": "markdown",
   "metadata": {},
   "source": [
    "Import the AirQuality data from the csv file"
   ]
  },
  {
   "cell_type": "code",
   "execution_count": 5,
   "metadata": {
    "collapsed": true
   },
   "outputs": [],
   "source": [
    "filename_queue = tf.train.string_input_producer([\"data/AirQualityUCI.csv\"])\n",
    "\n",
    "reader = tf.TextLineReader(1)\n",
    "key, value = reader.read_up_to(filename_queue, 8000)"
   ]
  },
  {
   "cell_type": "code",
   "execution_count": 6,
   "metadata": {
    "collapsed": true
   },
   "outputs": [],
   "source": [
    "# Date1;Time2;3CO(GT);4PT08.S1(CO);5NMHC(GT);6C6H6(GT);7PT08.S2(NMHC);8NOx(GT);9PT08.S3(NOx);10NO2(GT);11PT08.S4(NO2);12PT08.S5(O3);12T;14RH;15AH;;\n",
    "record_defaults = [[\"0\"],[\"0\"],[\"0\"],[\"0\"],[\"0\"],[\"0\"],[\"0\"],[\"0\"],[\"0\"],[\"0\"],[\"0\"],[\"0\"],[\"0\"],[\"0\"],[\"0\"],[\"0\"],[\"0\"]]\n",
    "\n",
    "cols = tf.decode_csv(value, record_defaults=record_defaults, field_delim=\";\")\n",
    "\n",
    "ptco = tf.string_to_number(cols[3])\n",
    "ptco_max = tf.reduce_max(ptco)\n",
    "ptco_norm = ptco / ptco_max\n",
    "\n",
    "nmhc = tf.string_to_number(cols[4])\n",
    "nmhc_max = tf.reduce_max(nmhc)\n",
    "nmhc_norm = nmhc / nmhc_max\n",
    "\n",
    "# c6h6 = cols[5]\n",
    "\n",
    "pts2 = tf.string_to_number(cols[6])\n",
    "pts2_max = tf.reduce_max(pts2)\n",
    "pts2_norm = pts2 / pts2_max\n",
    "\n",
    "nox = tf.string_to_number(cols[7])\n",
    "nox_max = tf.reduce_max(nox)\n",
    "nox_norm = nox / nox_max\n",
    "\n",
    "no2 = tf.string_to_number(cols[9])\n",
    "no2_max = tf.reduce_max(no2)\n",
    "no2_norm = no2 / no2_max\n",
    "\n",
    "o3 = tf.string_to_number(cols[11])\n",
    "o3_max = tf.reduce_max(o3)\n",
    "o3_norm = o3 / o3_max"
   ]
  },
  {
   "cell_type": "markdown",
   "metadata": {},
   "source": [
    "Read the data using a queue runner"
   ]
  },
  {
   "cell_type": "code",
   "execution_count": 7,
   "metadata": {
    "collapsed": true
   },
   "outputs": [],
   "source": [
    "with tf.Session() as sess:\n",
    "    coord = tf.train.Coordinator()\n",
    "    threads = tf.train.start_queue_runners(coord=coord)\n",
    "\n",
    "    full_data, ptco_data, ptco_norm_data, pts2_data, pts2_norm_data, \\\n",
    "        nox_data, nox_norm_data, no2_data, no2_norm_data, o3_data, o3_norm_data = \\\n",
    "        sess.run([cols, ptco, ptco_norm, pts2, pts2_norm, nox, nox_norm, no2, no2_norm, o3, o3_norm])\n",
    "        \n",
    "    coord.request_stop()\n",
    "    coord.join(threads)"
   ]
  },
  {
   "cell_type": "markdown",
   "metadata": {},
   "source": [
    "We can choose different gases to train with and target"
   ]
  },
  {
   "cell_type": "code",
   "execution_count": 8,
   "metadata": {
    "collapsed": true
   },
   "outputs": [],
   "source": [
    "training_set_a = pts2_norm_data[:8000]\n",
    "training_set_b = ptco_norm_data[:8000]\n",
    "training_set_c = nox_norm_data[:8000]\n",
    "\n",
    "target_set = o3_norm_data[:8000]"
   ]
  },
  {
   "cell_type": "markdown",
   "metadata": {},
   "source": [
    "Lets look at some of the data"
   ]
  },
  {
   "cell_type": "code",
   "execution_count": 42,
   "metadata": {},
   "outputs": [
    {
     "data": {
      "image/png": "[encoded data removed]",
      "text/plain": [
       "<matplotlib.figure.Figure at 0x7fbb3b985950>"
      ]
     },
     "metadata": {},
     "output_type": "display_data"
    }
   ],
   "source": [
    "plt.plot(target_set, 'b')\n",
    "plt.plot(training_set_c, 'r')\n",
    "plt.show()"
   ]
  },
  {
   "cell_type": "markdown",
   "metadata": {},
   "source": [
    "Grab a bunch of data for training/testing"
   ]
  },
  {
   "cell_type": "code",
   "execution_count": 11,
   "metadata": {
    "collapsed": true
   },
   "outputs": [],
   "source": [
    "def feed_data(iterations, steps):\n",
    "    input_data_a = []\n",
    "    input_data_b = []\n",
    "    input_data_c = []\n",
    "    targets = []\n",
    "    \n",
    "    for iteration in iterations:\n",
    "        data_a = []\n",
    "        data_b = []\n",
    "        data_c = []\n",
    "        data_t = []\n",
    "        \n",
    "        offset = iteration * train_length\n",
    "\n",
    "        for i in range(steps):\n",
    "            input_seq = training_set_a[offset + i : offset + i + input_size]\n",
    "            data_a.append(input_seq)\n",
    "\n",
    "            input_seq = training_set_b[offset + i : offset + i + input_size]\n",
    "            data_b.append(input_seq)\n",
    "\n",
    "            input_seq = training_set_c[offset + i : offset + i + input_size]\n",
    "            data_c.append(input_seq)\n",
    "\n",
    "            target_seq = target_set[offset + i + input_size : offset + i + input_size + output_size]\n",
    "            data_t.append(target_seq)\n",
    "            \n",
    "        input_data_a.append(data_a)\n",
    "        input_data_b.append(data_b)\n",
    "        input_data_c.append(data_c)\n",
    "        targets.append(data_t)\n",
    "\n",
    "    return (offset, input_data_a, input_data_b, input_data_b, targets)"
   ]
  },
  {
   "cell_type": "markdown",
   "metadata": {},
   "source": [
    "Set a few things up for the session"
   ]
  },
  {
   "cell_type": "code",
   "execution_count": 12,
   "metadata": {
    "collapsed": true
   },
   "outputs": [],
   "source": [
    "from random import sample\n",
    "\n",
    "train_range = range(50)\n",
    "total_cost = 0\n",
    "last_loss = 0\n",
    "\n",
    "currentSession = tf.Session()\n",
    "\n",
    "tf.global_variables_initializer().run(session = currentSession)\n",
    "\n",
    "starting_epoch = 0"
   ]
  },
  {
   "cell_type": "markdown",
   "metadata": {},
   "source": [
    "Play with different learning rates"
   ]
  },
  {
   "cell_type": "code",
   "execution_count": 13,
   "metadata": {
    "collapsed": true
   },
   "outputs": [],
   "source": [
    "def learning_schedule(epoch):\n",
    "    flr = 0.001\n",
    "    if (epoch > 180):\n",
    "        flr = 0.0008\n",
    "    if (epoch > 360):\n",
    "        flr = 0.0006\n",
    "    if (epoch > 1200):\n",
    "        flr = 0.0002\n",
    "    if (epoch > 1500):\n",
    "        flr = 0.00002\n",
    "    return flr"
   ]
  },
  {
   "cell_type": "markdown",
   "metadata": {},
   "source": [
    "Start training - choose a dropout rate"
   ]
  },
  {
   "cell_type": "code",
   "execution_count": 14,
   "metadata": {},
   "outputs": [
    {
     "name": "stdout",
     "output_type": "stream",
     "text": [
      "(22, 4, 0.002, 0, 0, 0, 0.001, 0, 0.0261267)\n",
      "(22, 4, 0.002, 0.81105223577469587, 30, 29.07609284017235, 0.001, 0.016221044715493918, 0.010793119)\n",
      "(22, 4, 0.002, 0.77482425421476364, 60, 23.509020779747516, 0.001, 0.015496485084295273, 0.01223486)\n",
      "(22, 4, 0.002, 0.70800816547125578, 90, 22.013362367171794, 0.001, 0.014160163309425116, 0.015524148)\n",
      "(22, 4, 0.002, 0.61482957936823368, 120, 19.749331342522055, 0.001, 0.012296591587364673, 0.0091086328)\n",
      "(22, 4, 0.002, 0.59952871454879642, 150, 18.599058800842613, 0.001, 0.011990574290975928, 0.015036805)\n",
      "(22, 4, 0.002, 0.56342026451602578, 180, 17.602236569859087, 0.001, 0.011268405290320516, 0.013371198)\n"
     ]
    }
   ],
   "source": [
    "dropit = tf.assign(global_dropout, 0.9)\n",
    "\n",
    "drop = currentSession.run(dropit)\n",
    "\n",
    "for epoch in range(starting_epoch, 201):\n",
    "    starting_epoch = epoch\n",
    "    \n",
    "    iterations = []\n",
    "    \n",
    "    train_ranges = [] \n",
    "    \n",
    "    epoch_loss = 0\n",
    "    \n",
    "    for i in range(batch_size):\n",
    "        train_ranges.append(sample(train_range, 50))\n",
    "        \n",
    "    batch_offsets = np.reshape(train_ranges, (-1, batch_size))\n",
    "    \n",
    "    for offsets in batch_offsets:\n",
    "        offset, input_data_a, input_data_b, input_data_c, targets = feed_data(offsets, train_steps)\n",
    "        \n",
    "        flr = learning_schedule(epoch)\n",
    "        \n",
    "        feed = {inputs[0]: input_data_a, inputs[1]: input_data_b, inputs[2]: input_data_c, 'targets:0': targets, \\\n",
    "               'new_learning_rate:0': flr}\n",
    "        \n",
    "        partial_loss, train, fstate = currentSession.run([loss, train_op, save_dict['final_state']], feed_dict=feed)\n",
    "        #allow a little time for initial variation to die down\n",
    "        if epoch > 0:\n",
    "            epoch_loss = epoch_loss + partial_loss\n",
    "        \n",
    "    total_cost = epoch_loss + total_cost\n",
    "    if epoch % 30 == 0:\n",
    "        running_loss = total_cost - last_loss\n",
    "        last_loss = total_cost\n",
    "        av_loss = epoch_loss / 50\n",
    "        print(hidden_size, batch_size, beta_val, epoch_loss, epoch, running_loss, flr, av_loss, partial_loss)"
   ]
  },
  {
   "cell_type": "markdown",
   "metadata": {},
   "source": [
    "It's simple to train and restart"
   ]
  },
  {
   "cell_type": "code",
   "execution_count": 15,
   "metadata": {},
   "outputs": [
    {
     "data": {
      "text/plain": [
       "'checkpoints/gru_cell_200'"
      ]
     },
     "execution_count": 15,
     "metadata": {},
     "output_type": "execute_result"
    }
   ],
   "source": [
    "saver = tf.train.Saver()\n",
    "saver.save(currentSession, 'checkpoints/{0}_{1}'.format(cell_name, epoch))"
   ]
  },
  {
   "cell_type": "markdown",
   "metadata": {},
   "source": [
    "Without having to create a new network we can take a look at how things are going"
   ]
  },
  {
   "cell_type": "code",
   "execution_count": 16,
   "metadata": {},
   "outputs": [
    {
     "name": "stdout",
     "output_type": "stream",
     "text": [
      "(22, 0.002, 'offset', [57, 57, 57, 57], 4788, 26, 0.022401653, 200)\n"
     ]
    }
   ],
   "source": [
    "no_drop = tf.assign(global_dropout, 1.0)\n",
    "\n",
    "drop = currentSession.run(no_drop)\n",
    "\n",
    "test_offset = [] \n",
    "#The network still wants batches at the moment\n",
    "for i in range(batch_size):\n",
    "    test_offset.append(57)\n",
    "\n",
    "offset, input_data_a, input_data_b, input_data_c, targets = feed_data(test_offset, train_steps)\n",
    "test_logits, current_loss, fstate = currentSession.run([logits, loss, save_dict['final_state']], \\\n",
    "                        feed_dict={inputs[0]: input_data_a, inputs[1]: input_data_b, inputs[2]: input_data_c, \\\n",
    "                                   'targets:0': targets})\n",
    "\n",
    "distance = 25\n",
    "#predictions at different distances from the input\n",
    "far_away = test_logits[0][:,distance]\n",
    "mid = test_logits[0][:,7]\n",
    "close = test_logits[0][:,1]\n",
    "print(hidden_size, beta_val, \"offset\", test_offset, offset, output_size, current_loss, epoch)\n",
    "\n",
    "test_size = input_size + distance\n",
    "offset, input_data_a, input_data_b, input_data_c, targets = feed_data(test_offset, train_steps)\n",
    "ts = np.stack(targets[0])\n",
    "ts = np.array(targets[0])[:,0]"
   ]
  },
  {
   "cell_type": "markdown",
   "metadata": {},
   "source": [
    "We can plot the predictions at different prediction points"
   ]
  },
  {
   "cell_type": "code",
   "execution_count": 17,
   "metadata": {},
   "outputs": [
    {
     "data": {
      "image/png": "[encoded data removed]",
      "text/plain": [
       "<matplotlib.figure.Figure at 0x7fbb5cb09f50>"
      ]
     },
     "metadata": {},
     "output_type": "display_data"
    }
   ],
   "source": [
    "import matplotlib.pyplot as plt\n",
    "plt.plot(far_away, 'r')\n",
    "# plt.plot(mid[18:], 'y')\n",
    "# plt.plot(close[25:], 'g')\n",
    "plt.plot(ts, 'b')\n",
    "plt.axis([0.0,train_steps,0.0,1.02])\n",
    "plt.show()"
   ]
  },
  {
   "cell_type": "markdown",
   "metadata": {},
   "source": [
    "We're now going to save the batching network and create a different network with batch size 1 and 1 training step which we can use for making predictions from a stream"
   ]
  },
  {
   "cell_type": "code",
   "execution_count": 18,
   "metadata": {},
   "outputs": [
    {
     "data": {
      "text/plain": [
       "'checkpoints/predict4_200'"
      ]
     },
     "execution_count": 18,
     "metadata": {},
     "output_type": "execute_result"
    }
   ],
   "source": [
    "saver = tf.train.Saver()\n",
    "saver.save(currentSession, 'checkpoints/predict{0}_{1}'.format(batch_size, epoch))"
   ]
  },
  {
   "cell_type": "code",
   "execution_count": 19,
   "metadata": {
    "collapsed": true
   },
   "outputs": [],
   "source": [
    "p_batch = 1\n",
    "    \n",
    "p_loss, p_cost, p_logits, p_save_dict = sq_net.sequence_layer(1, p_batch, input_size, output_size, \\\n",
    "                       input_count, layer_count, hidden_size, cell, cell_kernel, beta, False, True)\n",
    "\n",
    "p_inputs = p_save_dict['inputs']"
   ]
  },
  {
   "cell_type": "code",
   "execution_count": 20,
   "metadata": {},
   "outputs": [
    {
     "name": "stdout",
     "output_type": "stream",
     "text": [
      "INFO:tensorflow:Restoring parameters from checkpoints/predict4_200\n"
     ]
    }
   ],
   "source": [
    "sess = tf.Session()  \n",
    "sess.run(tf.global_variables_initializer())\n",
    "saver = tf.train.Saver()\n",
    "saver.restore(sess, 'checkpoints/predict{0}_{1}'.format(batch_size, epoch))"
   ]
  },
  {
   "cell_type": "markdown",
   "metadata": {},
   "source": [
    "Choose test_offset for in training or out of training predictions"
   ]
  },
  {
   "cell_type": "code",
   "execution_count": 39,
   "metadata": {},
   "outputs": [],
   "source": [
    "test_offset = [46] \n",
    "\n",
    "offset, input_data_a, input_data_b, input_data_c, targets = feed_data(test_offset, 420)\n",
    "\n",
    "predictions = []\n",
    "targets_o = []\n",
    "\n",
    "state = None\n",
    "\n",
    "for i in range(400):\n",
    "    in_a = np.reshape(input_data_a[0][i], (1,1,35))\n",
    "    in_b = np.reshape(input_data_b[0][i], (1,1,35))\n",
    "    in_c = np.reshape(input_data_c[0][i], (1,1,35))\n",
    "    \n",
    "    if state is not None:\n",
    "        feed_dict={p_inputs[0]: in_a, p_inputs[1]: in_b, p_inputs[2]: in_c, \\\n",
    "                   p_save_dict['inital_state'][0]: state[0], p_save_dict['inital_state'][1]: state[1]}\n",
    "    else:\n",
    "        feed_dict={p_inputs[0]: in_a, p_inputs[1]: in_b, p_inputs[2]: in_c}\n",
    "\n",
    "    run_logits, state = sess.run([p_logits, p_save_dict['final_state']], feed_dict)\n",
    "    predictions.append(run_logits[0][0][25])\n",
    "    targets_o.append(targets[0][i][25])"
   ]
  },
  {
   "cell_type": "code",
   "execution_count": 40,
   "metadata": {},
   "outputs": [
    {
     "data": {
      "image/png": "[encoded data removed]",
      "text/plain": [
       "<matplotlib.figure.Figure at 0x7fbb3bdc4c90>"
      ]
     },
     "metadata": {},
     "output_type": "display_data"
    }
   ],
   "source": [
    "plt.plot(predictions, 'r')\n",
    "plt.plot(targets_o, 'b')\n",
    "plt.axis([100.0,420,0.0,1.02])\n",
    "plt.show()"
   ]
  },
  {
   "cell_type": "code",
   "execution_count": null,
   "metadata": {
    "collapsed": true
   },
   "outputs": [],
   "source": []
  }
 ],
 "metadata": {
  "kernelspec": {
   "display_name": "Python 2",
   "language": "python",
   "name": "python2"
  },
  "language_info": {
   "codemirror_mode": {
    "name": "ipython",
    "version": 2
   },
   "file_extension": ".py",
   "mimetype": "text/x-python",
   "name": "python",
   "nbconvert_exporter": "python",
   "pygments_lexer": "ipython2",
   "version": "2.7.12"
  }
 },
 "nbformat": 4,
 "nbformat_minor": 2
}
